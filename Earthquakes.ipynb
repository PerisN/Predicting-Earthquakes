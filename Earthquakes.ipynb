{
  "cells": [
    {
      "cell_type": "code",
      "execution_count": 1,
      "metadata": {
        "id": "6YFHVQQV3Scq"
      },
      "outputs": [],
      "source": [
        "# Import Libraries\n",
        "\n",
        "import pandas as pd\n",
        "import numpy as np\n",
        "\n",
        "import zipfile\n",
        "\n",
        "import math\n",
        "\n",
        "from sklearn.preprocessing import StandardScaler, OneHotEncoder\n",
        "from sklearn.model_selection import train_test_split\n",
        "from sklearn.feature_selection import mutual_info_regression, SelectKBest\n",
        "from sklearn.ensemble import RandomForestRegressor\n",
        "from sklearn.tree import DecisionTreeRegressor\n",
        "from sklearn.model_selection import GridSearchCV, RandomizedSearchCV, cross_val_score, StratifiedKFold\n",
        "from sklearn.metrics import mean_squared_error, r2_score\n",
        "\n",
        "from pylab import rcParams\n",
        "import seaborn as sns\n",
        "import matplotlib.pyplot as plt\n",
        "\n",
        "from keras.models import Sequential\n",
        "from keras.layers import Dense, LSTM, Dropout\n",
        "\n",
        "import gc\n",
        "\n",
        "import warnings\n",
        "warnings.filterwarnings('ignore')"
      ]
    },
    {
      "cell_type": "code",
      "execution_count": 2,
      "metadata": {
        "id": "pigjx4Gb37ZC"
      },
      "outputs": [],
      "source": [
        "# Unzip the archive\n",
        "\n",
        "local_zip = '/content/drive/MyDrive/database.csv.zip'\n",
        "zip_ref = zipfile.ZipFile(local_zip, 'r')\n",
        "zip_ref.extractall()\n",
        "\n",
        "zip_ref.close()"
      ]
    },
    {
      "cell_type": "code",
      "execution_count": 3,
      "metadata": {
        "colab": {
          "base_uri": "https://localhost:8080/",
          "height": 522
        },
        "id": "qn-eFi4Z5I-5",
        "outputId": "11722281-d453-4266-ce49-21cad8b49fda"
      },
      "outputs": [
        {
          "output_type": "execute_result",
          "data": {
            "text/plain": [
              "             Date      Time  Latitude  Longitude        Type   Depth  \\\n",
              "0      01/02/1965  13:44:18   19.2460   145.6160  Earthquake  131.60   \n",
              "1      01/04/1965  11:29:49    1.8630   127.3520  Earthquake   80.00   \n",
              "2      01/05/1965  18:05:58  -20.5790  -173.9720  Earthquake   20.00   \n",
              "3      01/08/1965  18:49:43  -59.0760   -23.5570  Earthquake   15.00   \n",
              "4      01/09/1965  13:32:50   11.9380   126.4270  Earthquake   15.00   \n",
              "...           ...       ...       ...        ...         ...     ...   \n",
              "23407  12/28/2016  08:22:12   38.3917  -118.8941  Earthquake   12.30   \n",
              "23408  12/28/2016  09:13:47   38.3777  -118.8957  Earthquake    8.80   \n",
              "23409  12/28/2016  12:38:51   36.9179   140.4262  Earthquake   10.00   \n",
              "23410  12/29/2016  22:30:19   -9.0283   118.6639  Earthquake   79.00   \n",
              "23411  12/30/2016  20:08:28   37.3973   141.4103  Earthquake   11.94   \n",
              "\n",
              "       Depth Error  Depth Seismic Stations  Magnitude Magnitude Type  ...  \\\n",
              "0              NaN                     NaN        6.0             MW  ...   \n",
              "1              NaN                     NaN        5.8             MW  ...   \n",
              "2              NaN                     NaN        6.2             MW  ...   \n",
              "3              NaN                     NaN        5.8             MW  ...   \n",
              "4              NaN                     NaN        5.8             MW  ...   \n",
              "...            ...                     ...        ...            ...  ...   \n",
              "23407          1.2                    40.0        5.6             ML  ...   \n",
              "23408          2.0                    33.0        5.5             ML  ...   \n",
              "23409          1.8                     NaN        5.9            MWW  ...   \n",
              "23410          1.8                     NaN        6.3            MWW  ...   \n",
              "23411          2.2                     NaN        5.5             MB  ...   \n",
              "\n",
              "       Magnitude Seismic Stations  Azimuthal Gap  Horizontal Distance  \\\n",
              "0                             NaN            NaN                  NaN   \n",
              "1                             NaN            NaN                  NaN   \n",
              "2                             NaN            NaN                  NaN   \n",
              "3                             NaN            NaN                  NaN   \n",
              "4                             NaN            NaN                  NaN   \n",
              "...                           ...            ...                  ...   \n",
              "23407                        18.0          42.47                0.120   \n",
              "23408                        18.0          48.58                0.129   \n",
              "23409                         NaN          91.00                0.992   \n",
              "23410                         NaN          26.00                3.553   \n",
              "23411                       428.0          97.00                0.681   \n",
              "\n",
              "       Horizontal Error  Root Mean Square            ID  Source  \\\n",
              "0                   NaN               NaN  ISCGEM860706  ISCGEM   \n",
              "1                   NaN               NaN  ISCGEM860737  ISCGEM   \n",
              "2                   NaN               NaN  ISCGEM860762  ISCGEM   \n",
              "3                   NaN               NaN  ISCGEM860856  ISCGEM   \n",
              "4                   NaN               NaN  ISCGEM860890  ISCGEM   \n",
              "...                 ...               ...           ...     ...   \n",
              "23407               NaN            0.1898    NN00570710      NN   \n",
              "23408               NaN            0.2187    NN00570744      NN   \n",
              "23409               4.8            1.5200    US10007NAF      US   \n",
              "23410               6.0            1.4300    US10007NL0      US   \n",
              "23411               4.5            0.9100    US10007NTD      US   \n",
              "\n",
              "      Location Source Magnitude Source     Status  \n",
              "0              ISCGEM           ISCGEM  Automatic  \n",
              "1              ISCGEM           ISCGEM  Automatic  \n",
              "2              ISCGEM           ISCGEM  Automatic  \n",
              "3              ISCGEM           ISCGEM  Automatic  \n",
              "4              ISCGEM           ISCGEM  Automatic  \n",
              "...               ...              ...        ...  \n",
              "23407              NN               NN   Reviewed  \n",
              "23408              NN               NN   Reviewed  \n",
              "23409              US               US   Reviewed  \n",
              "23410              US               US   Reviewed  \n",
              "23411              US               US   Reviewed  \n",
              "\n",
              "[23412 rows x 21 columns]"
            ],
            "text/html": [
              "\n",
              "  <div id=\"df-68833297-2965-4a95-add9-156102e8b0ba\">\n",
              "    <div class=\"colab-df-container\">\n",
              "      <div>\n",
              "<style scoped>\n",
              "    .dataframe tbody tr th:only-of-type {\n",
              "        vertical-align: middle;\n",
              "    }\n",
              "\n",
              "    .dataframe tbody tr th {\n",
              "        vertical-align: top;\n",
              "    }\n",
              "\n",
              "    .dataframe thead th {\n",
              "        text-align: right;\n",
              "    }\n",
              "</style>\n",
              "<table border=\"1\" class=\"dataframe\">\n",
              "  <thead>\n",
              "    <tr style=\"text-align: right;\">\n",
              "      <th></th>\n",
              "      <th>Date</th>\n",
              "      <th>Time</th>\n",
              "      <th>Latitude</th>\n",
              "      <th>Longitude</th>\n",
              "      <th>Type</th>\n",
              "      <th>Depth</th>\n",
              "      <th>Depth Error</th>\n",
              "      <th>Depth Seismic Stations</th>\n",
              "      <th>Magnitude</th>\n",
              "      <th>Magnitude Type</th>\n",
              "      <th>...</th>\n",
              "      <th>Magnitude Seismic Stations</th>\n",
              "      <th>Azimuthal Gap</th>\n",
              "      <th>Horizontal Distance</th>\n",
              "      <th>Horizontal Error</th>\n",
              "      <th>Root Mean Square</th>\n",
              "      <th>ID</th>\n",
              "      <th>Source</th>\n",
              "      <th>Location Source</th>\n",
              "      <th>Magnitude Source</th>\n",
              "      <th>Status</th>\n",
              "    </tr>\n",
              "  </thead>\n",
              "  <tbody>\n",
              "    <tr>\n",
              "      <th>0</th>\n",
              "      <td>01/02/1965</td>\n",
              "      <td>13:44:18</td>\n",
              "      <td>19.2460</td>\n",
              "      <td>145.6160</td>\n",
              "      <td>Earthquake</td>\n",
              "      <td>131.60</td>\n",
              "      <td>NaN</td>\n",
              "      <td>NaN</td>\n",
              "      <td>6.0</td>\n",
              "      <td>MW</td>\n",
              "      <td>...</td>\n",
              "      <td>NaN</td>\n",
              "      <td>NaN</td>\n",
              "      <td>NaN</td>\n",
              "      <td>NaN</td>\n",
              "      <td>NaN</td>\n",
              "      <td>ISCGEM860706</td>\n",
              "      <td>ISCGEM</td>\n",
              "      <td>ISCGEM</td>\n",
              "      <td>ISCGEM</td>\n",
              "      <td>Automatic</td>\n",
              "    </tr>\n",
              "    <tr>\n",
              "      <th>1</th>\n",
              "      <td>01/04/1965</td>\n",
              "      <td>11:29:49</td>\n",
              "      <td>1.8630</td>\n",
              "      <td>127.3520</td>\n",
              "      <td>Earthquake</td>\n",
              "      <td>80.00</td>\n",
              "      <td>NaN</td>\n",
              "      <td>NaN</td>\n",
              "      <td>5.8</td>\n",
              "      <td>MW</td>\n",
              "      <td>...</td>\n",
              "      <td>NaN</td>\n",
              "      <td>NaN</td>\n",
              "      <td>NaN</td>\n",
              "      <td>NaN</td>\n",
              "      <td>NaN</td>\n",
              "      <td>ISCGEM860737</td>\n",
              "      <td>ISCGEM</td>\n",
              "      <td>ISCGEM</td>\n",
              "      <td>ISCGEM</td>\n",
              "      <td>Automatic</td>\n",
              "    </tr>\n",
              "    <tr>\n",
              "      <th>2</th>\n",
              "      <td>01/05/1965</td>\n",
              "      <td>18:05:58</td>\n",
              "      <td>-20.5790</td>\n",
              "      <td>-173.9720</td>\n",
              "      <td>Earthquake</td>\n",
              "      <td>20.00</td>\n",
              "      <td>NaN</td>\n",
              "      <td>NaN</td>\n",
              "      <td>6.2</td>\n",
              "      <td>MW</td>\n",
              "      <td>...</td>\n",
              "      <td>NaN</td>\n",
              "      <td>NaN</td>\n",
              "      <td>NaN</td>\n",
              "      <td>NaN</td>\n",
              "      <td>NaN</td>\n",
              "      <td>ISCGEM860762</td>\n",
              "      <td>ISCGEM</td>\n",
              "      <td>ISCGEM</td>\n",
              "      <td>ISCGEM</td>\n",
              "      <td>Automatic</td>\n",
              "    </tr>\n",
              "    <tr>\n",
              "      <th>3</th>\n",
              "      <td>01/08/1965</td>\n",
              "      <td>18:49:43</td>\n",
              "      <td>-59.0760</td>\n",
              "      <td>-23.5570</td>\n",
              "      <td>Earthquake</td>\n",
              "      <td>15.00</td>\n",
              "      <td>NaN</td>\n",
              "      <td>NaN</td>\n",
              "      <td>5.8</td>\n",
              "      <td>MW</td>\n",
              "      <td>...</td>\n",
              "      <td>NaN</td>\n",
              "      <td>NaN</td>\n",
              "      <td>NaN</td>\n",
              "      <td>NaN</td>\n",
              "      <td>NaN</td>\n",
              "      <td>ISCGEM860856</td>\n",
              "      <td>ISCGEM</td>\n",
              "      <td>ISCGEM</td>\n",
              "      <td>ISCGEM</td>\n",
              "      <td>Automatic</td>\n",
              "    </tr>\n",
              "    <tr>\n",
              "      <th>4</th>\n",
              "      <td>01/09/1965</td>\n",
              "      <td>13:32:50</td>\n",
              "      <td>11.9380</td>\n",
              "      <td>126.4270</td>\n",
              "      <td>Earthquake</td>\n",
              "      <td>15.00</td>\n",
              "      <td>NaN</td>\n",
              "      <td>NaN</td>\n",
              "      <td>5.8</td>\n",
              "      <td>MW</td>\n",
              "      <td>...</td>\n",
              "      <td>NaN</td>\n",
              "      <td>NaN</td>\n",
              "      <td>NaN</td>\n",
              "      <td>NaN</td>\n",
              "      <td>NaN</td>\n",
              "      <td>ISCGEM860890</td>\n",
              "      <td>ISCGEM</td>\n",
              "      <td>ISCGEM</td>\n",
              "      <td>ISCGEM</td>\n",
              "      <td>Automatic</td>\n",
              "    </tr>\n",
              "    <tr>\n",
              "      <th>...</th>\n",
              "      <td>...</td>\n",
              "      <td>...</td>\n",
              "      <td>...</td>\n",
              "      <td>...</td>\n",
              "      <td>...</td>\n",
              "      <td>...</td>\n",
              "      <td>...</td>\n",
              "      <td>...</td>\n",
              "      <td>...</td>\n",
              "      <td>...</td>\n",
              "      <td>...</td>\n",
              "      <td>...</td>\n",
              "      <td>...</td>\n",
              "      <td>...</td>\n",
              "      <td>...</td>\n",
              "      <td>...</td>\n",
              "      <td>...</td>\n",
              "      <td>...</td>\n",
              "      <td>...</td>\n",
              "      <td>...</td>\n",
              "      <td>...</td>\n",
              "    </tr>\n",
              "    <tr>\n",
              "      <th>23407</th>\n",
              "      <td>12/28/2016</td>\n",
              "      <td>08:22:12</td>\n",
              "      <td>38.3917</td>\n",
              "      <td>-118.8941</td>\n",
              "      <td>Earthquake</td>\n",
              "      <td>12.30</td>\n",
              "      <td>1.2</td>\n",
              "      <td>40.0</td>\n",
              "      <td>5.6</td>\n",
              "      <td>ML</td>\n",
              "      <td>...</td>\n",
              "      <td>18.0</td>\n",
              "      <td>42.47</td>\n",
              "      <td>0.120</td>\n",
              "      <td>NaN</td>\n",
              "      <td>0.1898</td>\n",
              "      <td>NN00570710</td>\n",
              "      <td>NN</td>\n",
              "      <td>NN</td>\n",
              "      <td>NN</td>\n",
              "      <td>Reviewed</td>\n",
              "    </tr>\n",
              "    <tr>\n",
              "      <th>23408</th>\n",
              "      <td>12/28/2016</td>\n",
              "      <td>09:13:47</td>\n",
              "      <td>38.3777</td>\n",
              "      <td>-118.8957</td>\n",
              "      <td>Earthquake</td>\n",
              "      <td>8.80</td>\n",
              "      <td>2.0</td>\n",
              "      <td>33.0</td>\n",
              "      <td>5.5</td>\n",
              "      <td>ML</td>\n",
              "      <td>...</td>\n",
              "      <td>18.0</td>\n",
              "      <td>48.58</td>\n",
              "      <td>0.129</td>\n",
              "      <td>NaN</td>\n",
              "      <td>0.2187</td>\n",
              "      <td>NN00570744</td>\n",
              "      <td>NN</td>\n",
              "      <td>NN</td>\n",
              "      <td>NN</td>\n",
              "      <td>Reviewed</td>\n",
              "    </tr>\n",
              "    <tr>\n",
              "      <th>23409</th>\n",
              "      <td>12/28/2016</td>\n",
              "      <td>12:38:51</td>\n",
              "      <td>36.9179</td>\n",
              "      <td>140.4262</td>\n",
              "      <td>Earthquake</td>\n",
              "      <td>10.00</td>\n",
              "      <td>1.8</td>\n",
              "      <td>NaN</td>\n",
              "      <td>5.9</td>\n",
              "      <td>MWW</td>\n",
              "      <td>...</td>\n",
              "      <td>NaN</td>\n",
              "      <td>91.00</td>\n",
              "      <td>0.992</td>\n",
              "      <td>4.8</td>\n",
              "      <td>1.5200</td>\n",
              "      <td>US10007NAF</td>\n",
              "      <td>US</td>\n",
              "      <td>US</td>\n",
              "      <td>US</td>\n",
              "      <td>Reviewed</td>\n",
              "    </tr>\n",
              "    <tr>\n",
              "      <th>23410</th>\n",
              "      <td>12/29/2016</td>\n",
              "      <td>22:30:19</td>\n",
              "      <td>-9.0283</td>\n",
              "      <td>118.6639</td>\n",
              "      <td>Earthquake</td>\n",
              "      <td>79.00</td>\n",
              "      <td>1.8</td>\n",
              "      <td>NaN</td>\n",
              "      <td>6.3</td>\n",
              "      <td>MWW</td>\n",
              "      <td>...</td>\n",
              "      <td>NaN</td>\n",
              "      <td>26.00</td>\n",
              "      <td>3.553</td>\n",
              "      <td>6.0</td>\n",
              "      <td>1.4300</td>\n",
              "      <td>US10007NL0</td>\n",
              "      <td>US</td>\n",
              "      <td>US</td>\n",
              "      <td>US</td>\n",
              "      <td>Reviewed</td>\n",
              "    </tr>\n",
              "    <tr>\n",
              "      <th>23411</th>\n",
              "      <td>12/30/2016</td>\n",
              "      <td>20:08:28</td>\n",
              "      <td>37.3973</td>\n",
              "      <td>141.4103</td>\n",
              "      <td>Earthquake</td>\n",
              "      <td>11.94</td>\n",
              "      <td>2.2</td>\n",
              "      <td>NaN</td>\n",
              "      <td>5.5</td>\n",
              "      <td>MB</td>\n",
              "      <td>...</td>\n",
              "      <td>428.0</td>\n",
              "      <td>97.00</td>\n",
              "      <td>0.681</td>\n",
              "      <td>4.5</td>\n",
              "      <td>0.9100</td>\n",
              "      <td>US10007NTD</td>\n",
              "      <td>US</td>\n",
              "      <td>US</td>\n",
              "      <td>US</td>\n",
              "      <td>Reviewed</td>\n",
              "    </tr>\n",
              "  </tbody>\n",
              "</table>\n",
              "<p>23412 rows × 21 columns</p>\n",
              "</div>\n",
              "      <button class=\"colab-df-convert\" onclick=\"convertToInteractive('df-68833297-2965-4a95-add9-156102e8b0ba')\"\n",
              "              title=\"Convert this dataframe to an interactive table.\"\n",
              "              style=\"display:none;\">\n",
              "        \n",
              "  <svg xmlns=\"http://www.w3.org/2000/svg\" height=\"24px\"viewBox=\"0 0 24 24\"\n",
              "       width=\"24px\">\n",
              "    <path d=\"M0 0h24v24H0V0z\" fill=\"none\"/>\n",
              "    <path d=\"M18.56 5.44l.94 2.06.94-2.06 2.06-.94-2.06-.94-.94-2.06-.94 2.06-2.06.94zm-11 1L8.5 8.5l.94-2.06 2.06-.94-2.06-.94L8.5 2.5l-.94 2.06-2.06.94zm10 10l.94 2.06.94-2.06 2.06-.94-2.06-.94-.94-2.06-.94 2.06-2.06.94z\"/><path d=\"M17.41 7.96l-1.37-1.37c-.4-.4-.92-.59-1.43-.59-.52 0-1.04.2-1.43.59L10.3 9.45l-7.72 7.72c-.78.78-.78 2.05 0 2.83L4 21.41c.39.39.9.59 1.41.59.51 0 1.02-.2 1.41-.59l7.78-7.78 2.81-2.81c.8-.78.8-2.07 0-2.86zM5.41 20L4 18.59l7.72-7.72 1.47 1.35L5.41 20z\"/>\n",
              "  </svg>\n",
              "      </button>\n",
              "      \n",
              "  <style>\n",
              "    .colab-df-container {\n",
              "      display:flex;\n",
              "      flex-wrap:wrap;\n",
              "      gap: 12px;\n",
              "    }\n",
              "\n",
              "    .colab-df-convert {\n",
              "      background-color: #E8F0FE;\n",
              "      border: none;\n",
              "      border-radius: 50%;\n",
              "      cursor: pointer;\n",
              "      display: none;\n",
              "      fill: #1967D2;\n",
              "      height: 32px;\n",
              "      padding: 0 0 0 0;\n",
              "      width: 32px;\n",
              "    }\n",
              "\n",
              "    .colab-df-convert:hover {\n",
              "      background-color: #E2EBFA;\n",
              "      box-shadow: 0px 1px 2px rgba(60, 64, 67, 0.3), 0px 1px 3px 1px rgba(60, 64, 67, 0.15);\n",
              "      fill: #174EA6;\n",
              "    }\n",
              "\n",
              "    [theme=dark] .colab-df-convert {\n",
              "      background-color: #3B4455;\n",
              "      fill: #D2E3FC;\n",
              "    }\n",
              "\n",
              "    [theme=dark] .colab-df-convert:hover {\n",
              "      background-color: #434B5C;\n",
              "      box-shadow: 0px 1px 3px 1px rgba(0, 0, 0, 0.15);\n",
              "      filter: drop-shadow(0px 1px 2px rgba(0, 0, 0, 0.3));\n",
              "      fill: #FFFFFF;\n",
              "    }\n",
              "  </style>\n",
              "\n",
              "      <script>\n",
              "        const buttonEl =\n",
              "          document.querySelector('#df-68833297-2965-4a95-add9-156102e8b0ba button.colab-df-convert');\n",
              "        buttonEl.style.display =\n",
              "          google.colab.kernel.accessAllowed ? 'block' : 'none';\n",
              "\n",
              "        async function convertToInteractive(key) {\n",
              "          const element = document.querySelector('#df-68833297-2965-4a95-add9-156102e8b0ba');\n",
              "          const dataTable =\n",
              "            await google.colab.kernel.invokeFunction('convertToInteractive',\n",
              "                                                     [key], {});\n",
              "          if (!dataTable) return;\n",
              "\n",
              "          const docLinkHtml = 'Like what you see? Visit the ' +\n",
              "            '<a target=\"_blank\" href=https://colab.research.google.com/notebooks/data_table.ipynb>data table notebook</a>'\n",
              "            + ' to learn more about interactive tables.';\n",
              "          element.innerHTML = '';\n",
              "          dataTable['output_type'] = 'display_data';\n",
              "          await google.colab.output.renderOutput(dataTable, element);\n",
              "          const docLink = document.createElement('div');\n",
              "          docLink.innerHTML = docLinkHtml;\n",
              "          element.appendChild(docLink);\n",
              "        }\n",
              "      </script>\n",
              "    </div>\n",
              "  </div>\n",
              "  "
            ]
          },
          "metadata": {},
          "execution_count": 3
        }
      ],
      "source": [
        "df = pd.read_csv('/content/database.csv')\n",
        "df"
      ]
    },
    {
      "cell_type": "code",
      "execution_count": 4,
      "metadata": {
        "colab": {
          "base_uri": "https://localhost:8080/"
        },
        "id": "GV1TxSKx0ssR",
        "outputId": "6272c18a-dba3-4d32-c147-129a0ef922d1"
      },
      "outputs": [
        {
          "output_type": "execute_result",
          "data": {
            "text/plain": [
              "(23412, 21)"
            ]
          },
          "metadata": {},
          "execution_count": 4
        }
      ],
      "source": [
        "df.shape"
      ]
    },
    {
      "cell_type": "code",
      "execution_count": 5,
      "metadata": {
        "colab": {
          "base_uri": "https://localhost:8080/"
        },
        "id": "rWflCAvQA4DM",
        "outputId": "d8125764-4f6f-4d0b-843a-7c095a50564d"
      },
      "outputs": [
        {
          "output_type": "stream",
          "name": "stdout",
          "text": [
            "<class 'pandas.core.frame.DataFrame'>\n",
            "RangeIndex: 23412 entries, 0 to 23411\n",
            "Data columns (total 21 columns):\n",
            " #   Column                      Non-Null Count  Dtype  \n",
            "---  ------                      --------------  -----  \n",
            " 0   Date                        23412 non-null  object \n",
            " 1   Time                        23412 non-null  object \n",
            " 2   Latitude                    23412 non-null  float64\n",
            " 3   Longitude                   23412 non-null  float64\n",
            " 4   Type                        23412 non-null  object \n",
            " 5   Depth                       23412 non-null  float64\n",
            " 6   Depth Error                 4461 non-null   float64\n",
            " 7   Depth Seismic Stations      7097 non-null   float64\n",
            " 8   Magnitude                   23412 non-null  float64\n",
            " 9   Magnitude Type              23409 non-null  object \n",
            " 10  Magnitude Error             327 non-null    float64\n",
            " 11  Magnitude Seismic Stations  2564 non-null   float64\n",
            " 12  Azimuthal Gap               7299 non-null   float64\n",
            " 13  Horizontal Distance         1604 non-null   float64\n",
            " 14  Horizontal Error            1156 non-null   float64\n",
            " 15  Root Mean Square            17352 non-null  float64\n",
            " 16  ID                          23412 non-null  object \n",
            " 17  Source                      23412 non-null  object \n",
            " 18  Location Source             23412 non-null  object \n",
            " 19  Magnitude Source            23412 non-null  object \n",
            " 20  Status                      23412 non-null  object \n",
            "dtypes: float64(12), object(9)\n",
            "memory usage: 3.8+ MB\n"
          ]
        }
      ],
      "source": [
        "df.info()"
      ]
    },
    {
      "cell_type": "code",
      "execution_count": 6,
      "metadata": {
        "colab": {
          "base_uri": "https://localhost:8080/",
          "height": 425
        },
        "id": "ewoXiD-NVgd6",
        "outputId": "a2992a19-d01f-4462-8f49-1fcc46b87a32"
      },
      "outputs": [
        {
          "output_type": "execute_result",
          "data": {
            "text/plain": [
              "                              count        mean         std         min  \\\n",
              "Latitude                    23412.0    1.679033   30.113183  -77.080000   \n",
              "Longitude                   23412.0   39.639961  125.511959 -179.997000   \n",
              "Depth                       23412.0   70.767911  122.651898   -1.100000   \n",
              "Depth Error                  4461.0    4.993115    4.875184    0.000000   \n",
              "Depth Seismic Stations       7097.0  275.364098  162.141631    0.000000   \n",
              "Magnitude                   23412.0    5.882531    0.423066    5.500000   \n",
              "Magnitude Error               327.0    0.071820    0.051466    0.000000   \n",
              "Magnitude Seismic Stations   2564.0   48.944618   62.943106    0.000000   \n",
              "Azimuthal Gap                7299.0   44.163532   32.141486    0.000000   \n",
              "Horizontal Distance          1604.0    3.992660    5.377262    0.004505   \n",
              "Horizontal Error             1156.0    7.662759   10.430396    0.085000   \n",
              "Root Mean Square            17352.0    1.022784    0.188545    0.000000   \n",
              "\n",
              "                                  25%       50%        75%      max  \n",
              "Latitude                    -18.65300   -3.5685   26.19075   86.005  \n",
              "Longitude                   -76.34975  103.9820  145.02625  179.998  \n",
              "Depth                        14.52250   33.0000   54.00000  700.000  \n",
              "Depth Error                   1.80000    3.5000    6.30000   91.295  \n",
              "Depth Seismic Stations      146.00000  255.0000  384.00000  934.000  \n",
              "Magnitude                     5.60000    5.7000    6.00000    9.100  \n",
              "Magnitude Error               0.04600    0.0590    0.07550    0.410  \n",
              "Magnitude Seismic Stations   10.00000   28.0000   66.00000  821.000  \n",
              "Azimuthal Gap                24.10000   36.0000   54.00000  360.000  \n",
              "Horizontal Distance           0.96875    2.3195    4.72450   37.874  \n",
              "Horizontal Error              5.30000    6.7000    8.10000   99.000  \n",
              "Root Mean Square              0.90000    1.0000    1.13000    3.440  "
            ],
            "text/html": [
              "\n",
              "  <div id=\"df-bee6fb7b-9093-4594-b343-f777cdf23eaa\">\n",
              "    <div class=\"colab-df-container\">\n",
              "      <div>\n",
              "<style scoped>\n",
              "    .dataframe tbody tr th:only-of-type {\n",
              "        vertical-align: middle;\n",
              "    }\n",
              "\n",
              "    .dataframe tbody tr th {\n",
              "        vertical-align: top;\n",
              "    }\n",
              "\n",
              "    .dataframe thead th {\n",
              "        text-align: right;\n",
              "    }\n",
              "</style>\n",
              "<table border=\"1\" class=\"dataframe\">\n",
              "  <thead>\n",
              "    <tr style=\"text-align: right;\">\n",
              "      <th></th>\n",
              "      <th>count</th>\n",
              "      <th>mean</th>\n",
              "      <th>std</th>\n",
              "      <th>min</th>\n",
              "      <th>25%</th>\n",
              "      <th>50%</th>\n",
              "      <th>75%</th>\n",
              "      <th>max</th>\n",
              "    </tr>\n",
              "  </thead>\n",
              "  <tbody>\n",
              "    <tr>\n",
              "      <th>Latitude</th>\n",
              "      <td>23412.0</td>\n",
              "      <td>1.679033</td>\n",
              "      <td>30.113183</td>\n",
              "      <td>-77.080000</td>\n",
              "      <td>-18.65300</td>\n",
              "      <td>-3.5685</td>\n",
              "      <td>26.19075</td>\n",
              "      <td>86.005</td>\n",
              "    </tr>\n",
              "    <tr>\n",
              "      <th>Longitude</th>\n",
              "      <td>23412.0</td>\n",
              "      <td>39.639961</td>\n",
              "      <td>125.511959</td>\n",
              "      <td>-179.997000</td>\n",
              "      <td>-76.34975</td>\n",
              "      <td>103.9820</td>\n",
              "      <td>145.02625</td>\n",
              "      <td>179.998</td>\n",
              "    </tr>\n",
              "    <tr>\n",
              "      <th>Depth</th>\n",
              "      <td>23412.0</td>\n",
              "      <td>70.767911</td>\n",
              "      <td>122.651898</td>\n",
              "      <td>-1.100000</td>\n",
              "      <td>14.52250</td>\n",
              "      <td>33.0000</td>\n",
              "      <td>54.00000</td>\n",
              "      <td>700.000</td>\n",
              "    </tr>\n",
              "    <tr>\n",
              "      <th>Depth Error</th>\n",
              "      <td>4461.0</td>\n",
              "      <td>4.993115</td>\n",
              "      <td>4.875184</td>\n",
              "      <td>0.000000</td>\n",
              "      <td>1.80000</td>\n",
              "      <td>3.5000</td>\n",
              "      <td>6.30000</td>\n",
              "      <td>91.295</td>\n",
              "    </tr>\n",
              "    <tr>\n",
              "      <th>Depth Seismic Stations</th>\n",
              "      <td>7097.0</td>\n",
              "      <td>275.364098</td>\n",
              "      <td>162.141631</td>\n",
              "      <td>0.000000</td>\n",
              "      <td>146.00000</td>\n",
              "      <td>255.0000</td>\n",
              "      <td>384.00000</td>\n",
              "      <td>934.000</td>\n",
              "    </tr>\n",
              "    <tr>\n",
              "      <th>Magnitude</th>\n",
              "      <td>23412.0</td>\n",
              "      <td>5.882531</td>\n",
              "      <td>0.423066</td>\n",
              "      <td>5.500000</td>\n",
              "      <td>5.60000</td>\n",
              "      <td>5.7000</td>\n",
              "      <td>6.00000</td>\n",
              "      <td>9.100</td>\n",
              "    </tr>\n",
              "    <tr>\n",
              "      <th>Magnitude Error</th>\n",
              "      <td>327.0</td>\n",
              "      <td>0.071820</td>\n",
              "      <td>0.051466</td>\n",
              "      <td>0.000000</td>\n",
              "      <td>0.04600</td>\n",
              "      <td>0.0590</td>\n",
              "      <td>0.07550</td>\n",
              "      <td>0.410</td>\n",
              "    </tr>\n",
              "    <tr>\n",
              "      <th>Magnitude Seismic Stations</th>\n",
              "      <td>2564.0</td>\n",
              "      <td>48.944618</td>\n",
              "      <td>62.943106</td>\n",
              "      <td>0.000000</td>\n",
              "      <td>10.00000</td>\n",
              "      <td>28.0000</td>\n",
              "      <td>66.00000</td>\n",
              "      <td>821.000</td>\n",
              "    </tr>\n",
              "    <tr>\n",
              "      <th>Azimuthal Gap</th>\n",
              "      <td>7299.0</td>\n",
              "      <td>44.163532</td>\n",
              "      <td>32.141486</td>\n",
              "      <td>0.000000</td>\n",
              "      <td>24.10000</td>\n",
              "      <td>36.0000</td>\n",
              "      <td>54.00000</td>\n",
              "      <td>360.000</td>\n",
              "    </tr>\n",
              "    <tr>\n",
              "      <th>Horizontal Distance</th>\n",
              "      <td>1604.0</td>\n",
              "      <td>3.992660</td>\n",
              "      <td>5.377262</td>\n",
              "      <td>0.004505</td>\n",
              "      <td>0.96875</td>\n",
              "      <td>2.3195</td>\n",
              "      <td>4.72450</td>\n",
              "      <td>37.874</td>\n",
              "    </tr>\n",
              "    <tr>\n",
              "      <th>Horizontal Error</th>\n",
              "      <td>1156.0</td>\n",
              "      <td>7.662759</td>\n",
              "      <td>10.430396</td>\n",
              "      <td>0.085000</td>\n",
              "      <td>5.30000</td>\n",
              "      <td>6.7000</td>\n",
              "      <td>8.10000</td>\n",
              "      <td>99.000</td>\n",
              "    </tr>\n",
              "    <tr>\n",
              "      <th>Root Mean Square</th>\n",
              "      <td>17352.0</td>\n",
              "      <td>1.022784</td>\n",
              "      <td>0.188545</td>\n",
              "      <td>0.000000</td>\n",
              "      <td>0.90000</td>\n",
              "      <td>1.0000</td>\n",
              "      <td>1.13000</td>\n",
              "      <td>3.440</td>\n",
              "    </tr>\n",
              "  </tbody>\n",
              "</table>\n",
              "</div>\n",
              "      <button class=\"colab-df-convert\" onclick=\"convertToInteractive('df-bee6fb7b-9093-4594-b343-f777cdf23eaa')\"\n",
              "              title=\"Convert this dataframe to an interactive table.\"\n",
              "              style=\"display:none;\">\n",
              "        \n",
              "  <svg xmlns=\"http://www.w3.org/2000/svg\" height=\"24px\"viewBox=\"0 0 24 24\"\n",
              "       width=\"24px\">\n",
              "    <path d=\"M0 0h24v24H0V0z\" fill=\"none\"/>\n",
              "    <path d=\"M18.56 5.44l.94 2.06.94-2.06 2.06-.94-2.06-.94-.94-2.06-.94 2.06-2.06.94zm-11 1L8.5 8.5l.94-2.06 2.06-.94-2.06-.94L8.5 2.5l-.94 2.06-2.06.94zm10 10l.94 2.06.94-2.06 2.06-.94-2.06-.94-.94-2.06-.94 2.06-2.06.94z\"/><path d=\"M17.41 7.96l-1.37-1.37c-.4-.4-.92-.59-1.43-.59-.52 0-1.04.2-1.43.59L10.3 9.45l-7.72 7.72c-.78.78-.78 2.05 0 2.83L4 21.41c.39.39.9.59 1.41.59.51 0 1.02-.2 1.41-.59l7.78-7.78 2.81-2.81c.8-.78.8-2.07 0-2.86zM5.41 20L4 18.59l7.72-7.72 1.47 1.35L5.41 20z\"/>\n",
              "  </svg>\n",
              "      </button>\n",
              "      \n",
              "  <style>\n",
              "    .colab-df-container {\n",
              "      display:flex;\n",
              "      flex-wrap:wrap;\n",
              "      gap: 12px;\n",
              "    }\n",
              "\n",
              "    .colab-df-convert {\n",
              "      background-color: #E8F0FE;\n",
              "      border: none;\n",
              "      border-radius: 50%;\n",
              "      cursor: pointer;\n",
              "      display: none;\n",
              "      fill: #1967D2;\n",
              "      height: 32px;\n",
              "      padding: 0 0 0 0;\n",
              "      width: 32px;\n",
              "    }\n",
              "\n",
              "    .colab-df-convert:hover {\n",
              "      background-color: #E2EBFA;\n",
              "      box-shadow: 0px 1px 2px rgba(60, 64, 67, 0.3), 0px 1px 3px 1px rgba(60, 64, 67, 0.15);\n",
              "      fill: #174EA6;\n",
              "    }\n",
              "\n",
              "    [theme=dark] .colab-df-convert {\n",
              "      background-color: #3B4455;\n",
              "      fill: #D2E3FC;\n",
              "    }\n",
              "\n",
              "    [theme=dark] .colab-df-convert:hover {\n",
              "      background-color: #434B5C;\n",
              "      box-shadow: 0px 1px 3px 1px rgba(0, 0, 0, 0.15);\n",
              "      filter: drop-shadow(0px 1px 2px rgba(0, 0, 0, 0.3));\n",
              "      fill: #FFFFFF;\n",
              "    }\n",
              "  </style>\n",
              "\n",
              "      <script>\n",
              "        const buttonEl =\n",
              "          document.querySelector('#df-bee6fb7b-9093-4594-b343-f777cdf23eaa button.colab-df-convert');\n",
              "        buttonEl.style.display =\n",
              "          google.colab.kernel.accessAllowed ? 'block' : 'none';\n",
              "\n",
              "        async function convertToInteractive(key) {\n",
              "          const element = document.querySelector('#df-bee6fb7b-9093-4594-b343-f777cdf23eaa');\n",
              "          const dataTable =\n",
              "            await google.colab.kernel.invokeFunction('convertToInteractive',\n",
              "                                                     [key], {});\n",
              "          if (!dataTable) return;\n",
              "\n",
              "          const docLinkHtml = 'Like what you see? Visit the ' +\n",
              "            '<a target=\"_blank\" href=https://colab.research.google.com/notebooks/data_table.ipynb>data table notebook</a>'\n",
              "            + ' to learn more about interactive tables.';\n",
              "          element.innerHTML = '';\n",
              "          dataTable['output_type'] = 'display_data';\n",
              "          await google.colab.output.renderOutput(dataTable, element);\n",
              "          const docLink = document.createElement('div');\n",
              "          docLink.innerHTML = docLinkHtml;\n",
              "          element.appendChild(docLink);\n",
              "        }\n",
              "      </script>\n",
              "    </div>\n",
              "  </div>\n",
              "  "
            ]
          },
          "metadata": {},
          "execution_count": 6
        }
      ],
      "source": [
        "df.describe().T"
      ]
    },
    {
      "cell_type": "markdown",
      "metadata": {
        "id": "1jr4Ceq-rrQG"
      },
      "source": [
        "### **Data Cleaning**"
      ]
    },
    {
      "cell_type": "code",
      "execution_count": 7,
      "metadata": {
        "colab": {
          "base_uri": "https://localhost:8080/"
        },
        "id": "MNjMb_F6Rle-",
        "outputId": "2a3f1e40-8a19-4aff-c39f-a3328f77aed5"
      },
      "outputs": [
        {
          "output_type": "execute_result",
          "data": {
            "text/plain": [
              "10    23409\n",
              "24        3\n",
              "Name: Date, dtype: int64"
            ]
          },
          "metadata": {},
          "execution_count": 7
        }
      ],
      "source": [
        "date_len = df.Date.str.len()\n",
        "date_len.value_counts()"
      ]
    },
    {
      "cell_type": "code",
      "execution_count": 8,
      "metadata": {
        "colab": {
          "base_uri": "https://localhost:8080/",
          "height": 342
        },
        "id": "rSBzWx8PSrGm",
        "outputId": "71068b88-58e0-4718-caef-c98dcfc1d016"
      },
      "outputs": [
        {
          "output_type": "stream",
          "name": "stdout",
          "text": [
            "Indices with corrupted data: [ 3378  7512 20650]\n"
          ]
        },
        {
          "output_type": "execute_result",
          "data": {
            "text/plain": [
              "                           Date                      Time  Latitude  \\\n",
              "3378   1975-02-23T02:58:41.000Z  1975-02-23T02:58:41.000Z     8.017   \n",
              "7512   1985-04-28T02:53:41.530Z  1985-04-28T02:53:41.530Z   -32.998   \n",
              "20650  2011-03-13T02:23:34.520Z  2011-03-13T02:23:34.520Z    36.344   \n",
              "\n",
              "       Longitude        Type  Depth  Depth Error  Depth Seismic Stations  \\\n",
              "3378     124.075  Earthquake  623.0          NaN                     NaN   \n",
              "7512     -71.766  Earthquake   33.0          NaN                     NaN   \n",
              "20650    142.344  Earthquake   10.1         13.9                   289.0   \n",
              "\n",
              "       Magnitude Magnitude Type  ...  Magnitude Seismic Stations  \\\n",
              "3378         5.6             MB  ...                         NaN   \n",
              "7512         5.6             MW  ...                         NaN   \n",
              "20650        5.8            MWC  ...                         NaN   \n",
              "\n",
              "       Azimuthal Gap  Horizontal Distance  Horizontal Error  Root Mean Square  \\\n",
              "3378             NaN                  NaN               NaN               NaN   \n",
              "7512             NaN                  NaN               NaN              1.30   \n",
              "20650           32.3                  NaN               NaN              1.06   \n",
              "\n",
              "               ID Source Location Source Magnitude Source    Status  \n",
              "3378   USP0000A09     US              US               US  Reviewed  \n",
              "7512   USP0002E81     US              US              HRV  Reviewed  \n",
              "20650  USP000HWQP     US              US             GCMT  Reviewed  \n",
              "\n",
              "[3 rows x 21 columns]"
            ],
            "text/html": [
              "\n",
              "  <div id=\"df-cc64ac59-4c30-4319-b2b0-5ff64e84e6e4\">\n",
              "    <div class=\"colab-df-container\">\n",
              "      <div>\n",
              "<style scoped>\n",
              "    .dataframe tbody tr th:only-of-type {\n",
              "        vertical-align: middle;\n",
              "    }\n",
              "\n",
              "    .dataframe tbody tr th {\n",
              "        vertical-align: top;\n",
              "    }\n",
              "\n",
              "    .dataframe thead th {\n",
              "        text-align: right;\n",
              "    }\n",
              "</style>\n",
              "<table border=\"1\" class=\"dataframe\">\n",
              "  <thead>\n",
              "    <tr style=\"text-align: right;\">\n",
              "      <th></th>\n",
              "      <th>Date</th>\n",
              "      <th>Time</th>\n",
              "      <th>Latitude</th>\n",
              "      <th>Longitude</th>\n",
              "      <th>Type</th>\n",
              "      <th>Depth</th>\n",
              "      <th>Depth Error</th>\n",
              "      <th>Depth Seismic Stations</th>\n",
              "      <th>Magnitude</th>\n",
              "      <th>Magnitude Type</th>\n",
              "      <th>...</th>\n",
              "      <th>Magnitude Seismic Stations</th>\n",
              "      <th>Azimuthal Gap</th>\n",
              "      <th>Horizontal Distance</th>\n",
              "      <th>Horizontal Error</th>\n",
              "      <th>Root Mean Square</th>\n",
              "      <th>ID</th>\n",
              "      <th>Source</th>\n",
              "      <th>Location Source</th>\n",
              "      <th>Magnitude Source</th>\n",
              "      <th>Status</th>\n",
              "    </tr>\n",
              "  </thead>\n",
              "  <tbody>\n",
              "    <tr>\n",
              "      <th>3378</th>\n",
              "      <td>1975-02-23T02:58:41.000Z</td>\n",
              "      <td>1975-02-23T02:58:41.000Z</td>\n",
              "      <td>8.017</td>\n",
              "      <td>124.075</td>\n",
              "      <td>Earthquake</td>\n",
              "      <td>623.0</td>\n",
              "      <td>NaN</td>\n",
              "      <td>NaN</td>\n",
              "      <td>5.6</td>\n",
              "      <td>MB</td>\n",
              "      <td>...</td>\n",
              "      <td>NaN</td>\n",
              "      <td>NaN</td>\n",
              "      <td>NaN</td>\n",
              "      <td>NaN</td>\n",
              "      <td>NaN</td>\n",
              "      <td>USP0000A09</td>\n",
              "      <td>US</td>\n",
              "      <td>US</td>\n",
              "      <td>US</td>\n",
              "      <td>Reviewed</td>\n",
              "    </tr>\n",
              "    <tr>\n",
              "      <th>7512</th>\n",
              "      <td>1985-04-28T02:53:41.530Z</td>\n",
              "      <td>1985-04-28T02:53:41.530Z</td>\n",
              "      <td>-32.998</td>\n",
              "      <td>-71.766</td>\n",
              "      <td>Earthquake</td>\n",
              "      <td>33.0</td>\n",
              "      <td>NaN</td>\n",
              "      <td>NaN</td>\n",
              "      <td>5.6</td>\n",
              "      <td>MW</td>\n",
              "      <td>...</td>\n",
              "      <td>NaN</td>\n",
              "      <td>NaN</td>\n",
              "      <td>NaN</td>\n",
              "      <td>NaN</td>\n",
              "      <td>1.30</td>\n",
              "      <td>USP0002E81</td>\n",
              "      <td>US</td>\n",
              "      <td>US</td>\n",
              "      <td>HRV</td>\n",
              "      <td>Reviewed</td>\n",
              "    </tr>\n",
              "    <tr>\n",
              "      <th>20650</th>\n",
              "      <td>2011-03-13T02:23:34.520Z</td>\n",
              "      <td>2011-03-13T02:23:34.520Z</td>\n",
              "      <td>36.344</td>\n",
              "      <td>142.344</td>\n",
              "      <td>Earthquake</td>\n",
              "      <td>10.1</td>\n",
              "      <td>13.9</td>\n",
              "      <td>289.0</td>\n",
              "      <td>5.8</td>\n",
              "      <td>MWC</td>\n",
              "      <td>...</td>\n",
              "      <td>NaN</td>\n",
              "      <td>32.3</td>\n",
              "      <td>NaN</td>\n",
              "      <td>NaN</td>\n",
              "      <td>1.06</td>\n",
              "      <td>USP000HWQP</td>\n",
              "      <td>US</td>\n",
              "      <td>US</td>\n",
              "      <td>GCMT</td>\n",
              "      <td>Reviewed</td>\n",
              "    </tr>\n",
              "  </tbody>\n",
              "</table>\n",
              "<p>3 rows × 21 columns</p>\n",
              "</div>\n",
              "      <button class=\"colab-df-convert\" onclick=\"convertToInteractive('df-cc64ac59-4c30-4319-b2b0-5ff64e84e6e4')\"\n",
              "              title=\"Convert this dataframe to an interactive table.\"\n",
              "              style=\"display:none;\">\n",
              "        \n",
              "  <svg xmlns=\"http://www.w3.org/2000/svg\" height=\"24px\"viewBox=\"0 0 24 24\"\n",
              "       width=\"24px\">\n",
              "    <path d=\"M0 0h24v24H0V0z\" fill=\"none\"/>\n",
              "    <path d=\"M18.56 5.44l.94 2.06.94-2.06 2.06-.94-2.06-.94-.94-2.06-.94 2.06-2.06.94zm-11 1L8.5 8.5l.94-2.06 2.06-.94-2.06-.94L8.5 2.5l-.94 2.06-2.06.94zm10 10l.94 2.06.94-2.06 2.06-.94-2.06-.94-.94-2.06-.94 2.06-2.06.94z\"/><path d=\"M17.41 7.96l-1.37-1.37c-.4-.4-.92-.59-1.43-.59-.52 0-1.04.2-1.43.59L10.3 9.45l-7.72 7.72c-.78.78-.78 2.05 0 2.83L4 21.41c.39.39.9.59 1.41.59.51 0 1.02-.2 1.41-.59l7.78-7.78 2.81-2.81c.8-.78.8-2.07 0-2.86zM5.41 20L4 18.59l7.72-7.72 1.47 1.35L5.41 20z\"/>\n",
              "  </svg>\n",
              "      </button>\n",
              "      \n",
              "  <style>\n",
              "    .colab-df-container {\n",
              "      display:flex;\n",
              "      flex-wrap:wrap;\n",
              "      gap: 12px;\n",
              "    }\n",
              "\n",
              "    .colab-df-convert {\n",
              "      background-color: #E8F0FE;\n",
              "      border: none;\n",
              "      border-radius: 50%;\n",
              "      cursor: pointer;\n",
              "      display: none;\n",
              "      fill: #1967D2;\n",
              "      height: 32px;\n",
              "      padding: 0 0 0 0;\n",
              "      width: 32px;\n",
              "    }\n",
              "\n",
              "    .colab-df-convert:hover {\n",
              "      background-color: #E2EBFA;\n",
              "      box-shadow: 0px 1px 2px rgba(60, 64, 67, 0.3), 0px 1px 3px 1px rgba(60, 64, 67, 0.15);\n",
              "      fill: #174EA6;\n",
              "    }\n",
              "\n",
              "    [theme=dark] .colab-df-convert {\n",
              "      background-color: #3B4455;\n",
              "      fill: #D2E3FC;\n",
              "    }\n",
              "\n",
              "    [theme=dark] .colab-df-convert:hover {\n",
              "      background-color: #434B5C;\n",
              "      box-shadow: 0px 1px 3px 1px rgba(0, 0, 0, 0.15);\n",
              "      filter: drop-shadow(0px 1px 2px rgba(0, 0, 0, 0.3));\n",
              "      fill: #FFFFFF;\n",
              "    }\n",
              "  </style>\n",
              "\n",
              "      <script>\n",
              "        const buttonEl =\n",
              "          document.querySelector('#df-cc64ac59-4c30-4319-b2b0-5ff64e84e6e4 button.colab-df-convert');\n",
              "        buttonEl.style.display =\n",
              "          google.colab.kernel.accessAllowed ? 'block' : 'none';\n",
              "\n",
              "        async function convertToInteractive(key) {\n",
              "          const element = document.querySelector('#df-cc64ac59-4c30-4319-b2b0-5ff64e84e6e4');\n",
              "          const dataTable =\n",
              "            await google.colab.kernel.invokeFunction('convertToInteractive',\n",
              "                                                     [key], {});\n",
              "          if (!dataTable) return;\n",
              "\n",
              "          const docLinkHtml = 'Like what you see? Visit the ' +\n",
              "            '<a target=\"_blank\" href=https://colab.research.google.com/notebooks/data_table.ipynb>data table notebook</a>'\n",
              "            + ' to learn more about interactive tables.';\n",
              "          element.innerHTML = '';\n",
              "          dataTable['output_type'] = 'display_data';\n",
              "          await google.colab.output.renderOutput(dataTable, element);\n",
              "          const docLink = document.createElement('div');\n",
              "          docLink.innerHTML = docLinkHtml;\n",
              "          element.appendChild(docLink);\n",
              "        }\n",
              "      </script>\n",
              "    </div>\n",
              "  </div>\n",
              "  "
            ]
          },
          "metadata": {},
          "execution_count": 8
        }
      ],
      "source": [
        "indices = np.where([date_len == 24])[1]\n",
        "print('Indices with corrupted data:', indices)\n",
        "df.loc[indices]"
      ]
    },
    {
      "cell_type": "code",
      "execution_count": 9,
      "metadata": {
        "colab": {
          "base_uri": "https://localhost:8080/"
        },
        "id": "7MNyf4YvTYuE",
        "outputId": "7c404f6a-187d-4292-9d6f-f1c0413e088b"
      },
      "outputs": [
        {
          "output_type": "execute_result",
          "data": {
            "text/plain": [
              "8     23409\n",
              "24        3\n",
              "Name: Time, dtype: int64"
            ]
          },
          "metadata": {},
          "execution_count": 9
        }
      ],
      "source": [
        "time_len = df.Time.str.len()\n",
        "time_len.value_counts()"
      ]
    },
    {
      "cell_type": "code",
      "execution_count": 10,
      "metadata": {
        "id": "-LUgbgA5TDtt"
      },
      "outputs": [],
      "source": [
        "df.loc[3378, ['Date','Time']] = ['02/23/1975', '02:58:41']\n",
        "df.loc[7512, ['Date','Time']] = ['04/28/1985', '02:53:41']\n",
        "df.loc[20650, ['Date','Time']] = ['03/13/2011', '02:23:34']"
      ]
    },
    {
      "cell_type": "code",
      "execution_count": 11,
      "metadata": {
        "colab": {
          "base_uri": "https://localhost:8080/"
        },
        "id": "ryxbA_C_W_mS",
        "outputId": "a20c8a0d-9f85-43fb-84d2-a5545ade537d"
      },
      "outputs": [
        {
          "output_type": "execute_result",
          "data": {
            "text/plain": [
              "0   1965-01-02 13:44:18\n",
              "1   1965-01-04 11:29:49\n",
              "2   1965-01-05 18:05:58\n",
              "3   1965-01-08 18:49:43\n",
              "4   1965-01-09 13:32:50\n",
              "Name: Datetime, dtype: datetime64[ns]"
            ]
          },
          "metadata": {},
          "execution_count": 11
        }
      ],
      "source": [
        "# Combine the 'Date' and 'Time' columns\n",
        "df['Datetime'] = df['Date'].astype(str) + ' ' + df['Time'].astype(str)\n",
        "\n",
        "# Convert the new column to a datetime type\n",
        "df['Datetime'] = pd.to_datetime(df['Datetime'], format='%m/%d/%Y %H:%M:%S')\n",
        "\n",
        "columns = df.columns.tolist() # This code positions 'Datetime' in the first index\n",
        "columns.remove('Datetime')\n",
        "columns.insert(0, 'Datetime')\n",
        "df = df.reindex(columns, axis=1)\n",
        "\n",
        "df['Datetime'].head()"
      ]
    },
    {
      "cell_type": "code",
      "execution_count": 12,
      "metadata": {
        "colab": {
          "base_uri": "https://localhost:8080/"
        },
        "id": "VleIvKgiXM1I",
        "outputId": "2d91c566-7c75-4c26-ca60-c0c9aba52215"
      },
      "outputs": [
        {
          "output_type": "execute_result",
          "data": {
            "text/plain": [
              "(Timestamp('1965-01-02 13:44:18'), Timestamp('2016-12-30 20:08:28'))"
            ]
          },
          "metadata": {},
          "execution_count": 12
        }
      ],
      "source": [
        "df['Datetime'].min(), df['Datetime'].max()"
      ]
    },
    {
      "cell_type": "code",
      "execution_count": 13,
      "metadata": {
        "colab": {
          "base_uri": "https://localhost:8080/"
        },
        "id": "-yiT9eTHsvqh",
        "outputId": "9e39a5e1-2a2f-4ce2-9dcf-e15abf977e98"
      },
      "outputs": [
        {
          "output_type": "execute_result",
          "data": {
            "text/plain": [
              "Earthquake           23232\n",
              "Nuclear Explosion      175\n",
              "Explosion                4\n",
              "Rock Burst               1\n",
              "Name: Type, dtype: int64"
            ]
          },
          "metadata": {},
          "execution_count": 13
        }
      ],
      "source": [
        "df['Type'].value_counts()"
      ]
    },
    {
      "cell_type": "code",
      "execution_count": 14,
      "metadata": {
        "id": "L2BlKdN2gbTj"
      },
      "outputs": [],
      "source": [
        "df1 = df.copy"
      ]
    },
    {
      "cell_type": "code",
      "execution_count": 15,
      "metadata": {
        "colab": {
          "base_uri": "https://localhost:8080/",
          "height": 378
        },
        "id": "UZ5hVR8L_LNh",
        "outputId": "ca141d95-6811-4acd-ab97-eade506afec2"
      },
      "outputs": [
        {
          "output_type": "execute_result",
          "data": {
            "text/plain": [
              "                     Latitude  Longitude        Type  Depth  Depth Error  \\\n",
              "Datetime                                                                   \n",
              "1965-01-02 13:44:18    19.246    145.616  Earthquake  131.6          NaN   \n",
              "1965-01-04 11:29:49     1.863    127.352  Earthquake   80.0          NaN   \n",
              "1965-01-05 18:05:58   -20.579   -173.972  Earthquake   20.0          NaN   \n",
              "\n",
              "                     Depth Seismic Stations  Magnitude Magnitude Type  \\\n",
              "Datetime                                                                \n",
              "1965-01-02 13:44:18                     NaN        6.0             MW   \n",
              "1965-01-04 11:29:49                     NaN        5.8             MW   \n",
              "1965-01-05 18:05:58                     NaN        6.2             MW   \n",
              "\n",
              "                     Magnitude Error  Magnitude Seismic Stations  \\\n",
              "Datetime                                                           \n",
              "1965-01-02 13:44:18              NaN                         NaN   \n",
              "1965-01-04 11:29:49              NaN                         NaN   \n",
              "1965-01-05 18:05:58              NaN                         NaN   \n",
              "\n",
              "                     Azimuthal Gap  Horizontal Distance  Horizontal Error  \\\n",
              "Datetime                                                                    \n",
              "1965-01-02 13:44:18            NaN                  NaN               NaN   \n",
              "1965-01-04 11:29:49            NaN                  NaN               NaN   \n",
              "1965-01-05 18:05:58            NaN                  NaN               NaN   \n",
              "\n",
              "                     Root Mean Square            ID  Source Location Source  \\\n",
              "Datetime                                                                      \n",
              "1965-01-02 13:44:18               NaN  ISCGEM860706  ISCGEM          ISCGEM   \n",
              "1965-01-04 11:29:49               NaN  ISCGEM860737  ISCGEM          ISCGEM   \n",
              "1965-01-05 18:05:58               NaN  ISCGEM860762  ISCGEM          ISCGEM   \n",
              "\n",
              "                    Magnitude Source     Status  \n",
              "Datetime                                         \n",
              "1965-01-02 13:44:18           ISCGEM  Automatic  \n",
              "1965-01-04 11:29:49           ISCGEM  Automatic  \n",
              "1965-01-05 18:05:58           ISCGEM  Automatic  "
            ],
            "text/html": [
              "\n",
              "  <div id=\"df-7b8bb993-5918-40a3-88bf-097a63a5ec92\">\n",
              "    <div class=\"colab-df-container\">\n",
              "      <div>\n",
              "<style scoped>\n",
              "    .dataframe tbody tr th:only-of-type {\n",
              "        vertical-align: middle;\n",
              "    }\n",
              "\n",
              "    .dataframe tbody tr th {\n",
              "        vertical-align: top;\n",
              "    }\n",
              "\n",
              "    .dataframe thead th {\n",
              "        text-align: right;\n",
              "    }\n",
              "</style>\n",
              "<table border=\"1\" class=\"dataframe\">\n",
              "  <thead>\n",
              "    <tr style=\"text-align: right;\">\n",
              "      <th></th>\n",
              "      <th>Latitude</th>\n",
              "      <th>Longitude</th>\n",
              "      <th>Type</th>\n",
              "      <th>Depth</th>\n",
              "      <th>Depth Error</th>\n",
              "      <th>Depth Seismic Stations</th>\n",
              "      <th>Magnitude</th>\n",
              "      <th>Magnitude Type</th>\n",
              "      <th>Magnitude Error</th>\n",
              "      <th>Magnitude Seismic Stations</th>\n",
              "      <th>Azimuthal Gap</th>\n",
              "      <th>Horizontal Distance</th>\n",
              "      <th>Horizontal Error</th>\n",
              "      <th>Root Mean Square</th>\n",
              "      <th>ID</th>\n",
              "      <th>Source</th>\n",
              "      <th>Location Source</th>\n",
              "      <th>Magnitude Source</th>\n",
              "      <th>Status</th>\n",
              "    </tr>\n",
              "    <tr>\n",
              "      <th>Datetime</th>\n",
              "      <th></th>\n",
              "      <th></th>\n",
              "      <th></th>\n",
              "      <th></th>\n",
              "      <th></th>\n",
              "      <th></th>\n",
              "      <th></th>\n",
              "      <th></th>\n",
              "      <th></th>\n",
              "      <th></th>\n",
              "      <th></th>\n",
              "      <th></th>\n",
              "      <th></th>\n",
              "      <th></th>\n",
              "      <th></th>\n",
              "      <th></th>\n",
              "      <th></th>\n",
              "      <th></th>\n",
              "      <th></th>\n",
              "    </tr>\n",
              "  </thead>\n",
              "  <tbody>\n",
              "    <tr>\n",
              "      <th>1965-01-02 13:44:18</th>\n",
              "      <td>19.246</td>\n",
              "      <td>145.616</td>\n",
              "      <td>Earthquake</td>\n",
              "      <td>131.6</td>\n",
              "      <td>NaN</td>\n",
              "      <td>NaN</td>\n",
              "      <td>6.0</td>\n",
              "      <td>MW</td>\n",
              "      <td>NaN</td>\n",
              "      <td>NaN</td>\n",
              "      <td>NaN</td>\n",
              "      <td>NaN</td>\n",
              "      <td>NaN</td>\n",
              "      <td>NaN</td>\n",
              "      <td>ISCGEM860706</td>\n",
              "      <td>ISCGEM</td>\n",
              "      <td>ISCGEM</td>\n",
              "      <td>ISCGEM</td>\n",
              "      <td>Automatic</td>\n",
              "    </tr>\n",
              "    <tr>\n",
              "      <th>1965-01-04 11:29:49</th>\n",
              "      <td>1.863</td>\n",
              "      <td>127.352</td>\n",
              "      <td>Earthquake</td>\n",
              "      <td>80.0</td>\n",
              "      <td>NaN</td>\n",
              "      <td>NaN</td>\n",
              "      <td>5.8</td>\n",
              "      <td>MW</td>\n",
              "      <td>NaN</td>\n",
              "      <td>NaN</td>\n",
              "      <td>NaN</td>\n",
              "      <td>NaN</td>\n",
              "      <td>NaN</td>\n",
              "      <td>NaN</td>\n",
              "      <td>ISCGEM860737</td>\n",
              "      <td>ISCGEM</td>\n",
              "      <td>ISCGEM</td>\n",
              "      <td>ISCGEM</td>\n",
              "      <td>Automatic</td>\n",
              "    </tr>\n",
              "    <tr>\n",
              "      <th>1965-01-05 18:05:58</th>\n",
              "      <td>-20.579</td>\n",
              "      <td>-173.972</td>\n",
              "      <td>Earthquake</td>\n",
              "      <td>20.0</td>\n",
              "      <td>NaN</td>\n",
              "      <td>NaN</td>\n",
              "      <td>6.2</td>\n",
              "      <td>MW</td>\n",
              "      <td>NaN</td>\n",
              "      <td>NaN</td>\n",
              "      <td>NaN</td>\n",
              "      <td>NaN</td>\n",
              "      <td>NaN</td>\n",
              "      <td>NaN</td>\n",
              "      <td>ISCGEM860762</td>\n",
              "      <td>ISCGEM</td>\n",
              "      <td>ISCGEM</td>\n",
              "      <td>ISCGEM</td>\n",
              "      <td>Automatic</td>\n",
              "    </tr>\n",
              "  </tbody>\n",
              "</table>\n",
              "</div>\n",
              "      <button class=\"colab-df-convert\" onclick=\"convertToInteractive('df-7b8bb993-5918-40a3-88bf-097a63a5ec92')\"\n",
              "              title=\"Convert this dataframe to an interactive table.\"\n",
              "              style=\"display:none;\">\n",
              "        \n",
              "  <svg xmlns=\"http://www.w3.org/2000/svg\" height=\"24px\"viewBox=\"0 0 24 24\"\n",
              "       width=\"24px\">\n",
              "    <path d=\"M0 0h24v24H0V0z\" fill=\"none\"/>\n",
              "    <path d=\"M18.56 5.44l.94 2.06.94-2.06 2.06-.94-2.06-.94-.94-2.06-.94 2.06-2.06.94zm-11 1L8.5 8.5l.94-2.06 2.06-.94-2.06-.94L8.5 2.5l-.94 2.06-2.06.94zm10 10l.94 2.06.94-2.06 2.06-.94-2.06-.94-.94-2.06-.94 2.06-2.06.94z\"/><path d=\"M17.41 7.96l-1.37-1.37c-.4-.4-.92-.59-1.43-.59-.52 0-1.04.2-1.43.59L10.3 9.45l-7.72 7.72c-.78.78-.78 2.05 0 2.83L4 21.41c.39.39.9.59 1.41.59.51 0 1.02-.2 1.41-.59l7.78-7.78 2.81-2.81c.8-.78.8-2.07 0-2.86zM5.41 20L4 18.59l7.72-7.72 1.47 1.35L5.41 20z\"/>\n",
              "  </svg>\n",
              "      </button>\n",
              "      \n",
              "  <style>\n",
              "    .colab-df-container {\n",
              "      display:flex;\n",
              "      flex-wrap:wrap;\n",
              "      gap: 12px;\n",
              "    }\n",
              "\n",
              "    .colab-df-convert {\n",
              "      background-color: #E8F0FE;\n",
              "      border: none;\n",
              "      border-radius: 50%;\n",
              "      cursor: pointer;\n",
              "      display: none;\n",
              "      fill: #1967D2;\n",
              "      height: 32px;\n",
              "      padding: 0 0 0 0;\n",
              "      width: 32px;\n",
              "    }\n",
              "\n",
              "    .colab-df-convert:hover {\n",
              "      background-color: #E2EBFA;\n",
              "      box-shadow: 0px 1px 2px rgba(60, 64, 67, 0.3), 0px 1px 3px 1px rgba(60, 64, 67, 0.15);\n",
              "      fill: #174EA6;\n",
              "    }\n",
              "\n",
              "    [theme=dark] .colab-df-convert {\n",
              "      background-color: #3B4455;\n",
              "      fill: #D2E3FC;\n",
              "    }\n",
              "\n",
              "    [theme=dark] .colab-df-convert:hover {\n",
              "      background-color: #434B5C;\n",
              "      box-shadow: 0px 1px 3px 1px rgba(0, 0, 0, 0.15);\n",
              "      filter: drop-shadow(0px 1px 2px rgba(0, 0, 0, 0.3));\n",
              "      fill: #FFFFFF;\n",
              "    }\n",
              "  </style>\n",
              "\n",
              "      <script>\n",
              "        const buttonEl =\n",
              "          document.querySelector('#df-7b8bb993-5918-40a3-88bf-097a63a5ec92 button.colab-df-convert');\n",
              "        buttonEl.style.display =\n",
              "          google.colab.kernel.accessAllowed ? 'block' : 'none';\n",
              "\n",
              "        async function convertToInteractive(key) {\n",
              "          const element = document.querySelector('#df-7b8bb993-5918-40a3-88bf-097a63a5ec92');\n",
              "          const dataTable =\n",
              "            await google.colab.kernel.invokeFunction('convertToInteractive',\n",
              "                                                     [key], {});\n",
              "          if (!dataTable) return;\n",
              "\n",
              "          const docLinkHtml = 'Like what you see? Visit the ' +\n",
              "            '<a target=\"_blank\" href=https://colab.research.google.com/notebooks/data_table.ipynb>data table notebook</a>'\n",
              "            + ' to learn more about interactive tables.';\n",
              "          element.innerHTML = '';\n",
              "          dataTable['output_type'] = 'display_data';\n",
              "          await google.colab.output.renderOutput(dataTable, element);\n",
              "          const docLink = document.createElement('div');\n",
              "          docLink.innerHTML = docLinkHtml;\n",
              "          element.appendChild(docLink);\n",
              "        }\n",
              "      </script>\n",
              "    </div>\n",
              "  </div>\n",
              "  "
            ]
          },
          "metadata": {},
          "execution_count": 15
        }
      ],
      "source": [
        "df = df.set_index('Datetime')\n",
        "\n",
        "df = df.drop(['Date','Time'], axis=1)\n",
        "df.head(3)"
      ]
    },
    {
      "cell_type": "code",
      "execution_count": 16,
      "metadata": {
        "colab": {
          "base_uri": "https://localhost:8080/"
        },
        "id": "p_laDjI7-F7D",
        "outputId": "53acfc96-0adf-4d27-fdf4-2c8df9dff303"
      },
      "outputs": [
        {
          "output_type": "stream",
          "name": "stdout",
          "text": [
            "Depth Error: 80.95%\n",
            "Depth Seismic Stations: 69.69%\n",
            "Magnitude Type: 0.01%\n",
            "Magnitude Error: 98.6%\n",
            "Magnitude Seismic Stations: 89.05%\n",
            "Azimuthal Gap: 68.82%\n",
            "Horizontal Distance: 93.15%\n",
            "Horizontal Error: 95.06%\n",
            "Root Mean Square: 25.88%\n"
          ]
        }
      ],
      "source": [
        "# Find the columns with null values and their percentage\n",
        "\n",
        "null_cols = df.columns[df.isnull().any()].tolist()\n",
        "null_percentages = [np.round(100 * df[col].isnull().mean(), 2) for col in null_cols]\n",
        "\n",
        "# Print the results\n",
        "for col, percentage in zip(null_cols, null_percentages):\n",
        "    print(f\"{col}: {percentage}%\")"
      ]
    },
    {
      "cell_type": "markdown",
      "metadata": {
        "id": "8eVZbP7ybg0q"
      },
      "source": [
        "All variables except Magnitude Type that have null values need to be dropped because filling them would make our analysis unreliable."
      ]
    },
    {
      "cell_type": "code",
      "execution_count": 17,
      "metadata": {
        "colab": {
          "base_uri": "https://localhost:8080/",
          "height": 143
        },
        "id": "v5zj2XENfP38",
        "outputId": "b41cd912-eb65-4e2f-d0ba-c3ec693d23c0"
      },
      "outputs": [
        {
          "output_type": "execute_result",
          "data": {
            "text/plain": [
              "                     Latitude  Longitude        Type  Depth  Magnitude  \\\n",
              "Datetime                                                                 \n",
              "1965-01-02 13:44:18    19.246    145.616  Earthquake  131.6        6.0   \n",
              "1965-01-04 11:29:49     1.863    127.352  Earthquake   80.0        5.8   \n",
              "\n",
              "                    Magnitude Type  \n",
              "Datetime                            \n",
              "1965-01-02 13:44:18             MW  \n",
              "1965-01-04 11:29:49             MW  "
            ],
            "text/html": [
              "\n",
              "  <div id=\"df-483c612e-042a-4dbf-b06c-d8253f7764a5\">\n",
              "    <div class=\"colab-df-container\">\n",
              "      <div>\n",
              "<style scoped>\n",
              "    .dataframe tbody tr th:only-of-type {\n",
              "        vertical-align: middle;\n",
              "    }\n",
              "\n",
              "    .dataframe tbody tr th {\n",
              "        vertical-align: top;\n",
              "    }\n",
              "\n",
              "    .dataframe thead th {\n",
              "        text-align: right;\n",
              "    }\n",
              "</style>\n",
              "<table border=\"1\" class=\"dataframe\">\n",
              "  <thead>\n",
              "    <tr style=\"text-align: right;\">\n",
              "      <th></th>\n",
              "      <th>Latitude</th>\n",
              "      <th>Longitude</th>\n",
              "      <th>Type</th>\n",
              "      <th>Depth</th>\n",
              "      <th>Magnitude</th>\n",
              "      <th>Magnitude Type</th>\n",
              "    </tr>\n",
              "    <tr>\n",
              "      <th>Datetime</th>\n",
              "      <th></th>\n",
              "      <th></th>\n",
              "      <th></th>\n",
              "      <th></th>\n",
              "      <th></th>\n",
              "      <th></th>\n",
              "    </tr>\n",
              "  </thead>\n",
              "  <tbody>\n",
              "    <tr>\n",
              "      <th>1965-01-02 13:44:18</th>\n",
              "      <td>19.246</td>\n",
              "      <td>145.616</td>\n",
              "      <td>Earthquake</td>\n",
              "      <td>131.6</td>\n",
              "      <td>6.0</td>\n",
              "      <td>MW</td>\n",
              "    </tr>\n",
              "    <tr>\n",
              "      <th>1965-01-04 11:29:49</th>\n",
              "      <td>1.863</td>\n",
              "      <td>127.352</td>\n",
              "      <td>Earthquake</td>\n",
              "      <td>80.0</td>\n",
              "      <td>5.8</td>\n",
              "      <td>MW</td>\n",
              "    </tr>\n",
              "  </tbody>\n",
              "</table>\n",
              "</div>\n",
              "      <button class=\"colab-df-convert\" onclick=\"convertToInteractive('df-483c612e-042a-4dbf-b06c-d8253f7764a5')\"\n",
              "              title=\"Convert this dataframe to an interactive table.\"\n",
              "              style=\"display:none;\">\n",
              "        \n",
              "  <svg xmlns=\"http://www.w3.org/2000/svg\" height=\"24px\"viewBox=\"0 0 24 24\"\n",
              "       width=\"24px\">\n",
              "    <path d=\"M0 0h24v24H0V0z\" fill=\"none\"/>\n",
              "    <path d=\"M18.56 5.44l.94 2.06.94-2.06 2.06-.94-2.06-.94-.94-2.06-.94 2.06-2.06.94zm-11 1L8.5 8.5l.94-2.06 2.06-.94-2.06-.94L8.5 2.5l-.94 2.06-2.06.94zm10 10l.94 2.06.94-2.06 2.06-.94-2.06-.94-.94-2.06-.94 2.06-2.06.94z\"/><path d=\"M17.41 7.96l-1.37-1.37c-.4-.4-.92-.59-1.43-.59-.52 0-1.04.2-1.43.59L10.3 9.45l-7.72 7.72c-.78.78-.78 2.05 0 2.83L4 21.41c.39.39.9.59 1.41.59.51 0 1.02-.2 1.41-.59l7.78-7.78 2.81-2.81c.8-.78.8-2.07 0-2.86zM5.41 20L4 18.59l7.72-7.72 1.47 1.35L5.41 20z\"/>\n",
              "  </svg>\n",
              "      </button>\n",
              "      \n",
              "  <style>\n",
              "    .colab-df-container {\n",
              "      display:flex;\n",
              "      flex-wrap:wrap;\n",
              "      gap: 12px;\n",
              "    }\n",
              "\n",
              "    .colab-df-convert {\n",
              "      background-color: #E8F0FE;\n",
              "      border: none;\n",
              "      border-radius: 50%;\n",
              "      cursor: pointer;\n",
              "      display: none;\n",
              "      fill: #1967D2;\n",
              "      height: 32px;\n",
              "      padding: 0 0 0 0;\n",
              "      width: 32px;\n",
              "    }\n",
              "\n",
              "    .colab-df-convert:hover {\n",
              "      background-color: #E2EBFA;\n",
              "      box-shadow: 0px 1px 2px rgba(60, 64, 67, 0.3), 0px 1px 3px 1px rgba(60, 64, 67, 0.15);\n",
              "      fill: #174EA6;\n",
              "    }\n",
              "\n",
              "    [theme=dark] .colab-df-convert {\n",
              "      background-color: #3B4455;\n",
              "      fill: #D2E3FC;\n",
              "    }\n",
              "\n",
              "    [theme=dark] .colab-df-convert:hover {\n",
              "      background-color: #434B5C;\n",
              "      box-shadow: 0px 1px 3px 1px rgba(0, 0, 0, 0.15);\n",
              "      filter: drop-shadow(0px 1px 2px rgba(0, 0, 0, 0.3));\n",
              "      fill: #FFFFFF;\n",
              "    }\n",
              "  </style>\n",
              "\n",
              "      <script>\n",
              "        const buttonEl =\n",
              "          document.querySelector('#df-483c612e-042a-4dbf-b06c-d8253f7764a5 button.colab-df-convert');\n",
              "        buttonEl.style.display =\n",
              "          google.colab.kernel.accessAllowed ? 'block' : 'none';\n",
              "\n",
              "        async function convertToInteractive(key) {\n",
              "          const element = document.querySelector('#df-483c612e-042a-4dbf-b06c-d8253f7764a5');\n",
              "          const dataTable =\n",
              "            await google.colab.kernel.invokeFunction('convertToInteractive',\n",
              "                                                     [key], {});\n",
              "          if (!dataTable) return;\n",
              "\n",
              "          const docLinkHtml = 'Like what you see? Visit the ' +\n",
              "            '<a target=\"_blank\" href=https://colab.research.google.com/notebooks/data_table.ipynb>data table notebook</a>'\n",
              "            + ' to learn more about interactive tables.';\n",
              "          element.innerHTML = '';\n",
              "          dataTable['output_type'] = 'display_data';\n",
              "          await google.colab.output.renderOutput(dataTable, element);\n",
              "          const docLink = document.createElement('div');\n",
              "          docLink.innerHTML = docLinkHtml;\n",
              "          element.appendChild(docLink);\n",
              "        }\n",
              "      </script>\n",
              "    </div>\n",
              "  </div>\n",
              "  "
            ]
          },
          "metadata": {},
          "execution_count": 17
        }
      ],
      "source": [
        "# Drop columns\n",
        "\n",
        "cols_to_drop = [col for col in null_cols if col != 'Magnitude Type'] +['ID','Source','Location Source','Magnitude Source','Status'] # ID, sources and status do not add much information for analysis\n",
        "df = df.drop(cols_to_drop, axis=1)\n",
        "df.head(2)"
      ]
    },
    {
      "cell_type": "code",
      "execution_count": 18,
      "metadata": {
        "id": "EZLAKT76jLHc"
      },
      "outputs": [],
      "source": [
        "mode = df['Magnitude Type'].mode()[0]\n",
        "\n",
        "# Fill missing values in the column with the mode\n",
        "df['Magnitude Type'] = df['Magnitude Type'].fillna(mode)"
      ]
    },
    {
      "cell_type": "code",
      "execution_count": 19,
      "metadata": {
        "id": "WD0OI_VFNDYv"
      },
      "outputs": [],
      "source": [
        "# Dropping duplicates\n",
        "\n",
        "df = df[~df.index.duplicated(keep=False)]"
      ]
    },
    {
      "cell_type": "code",
      "execution_count": 20,
      "metadata": {
        "colab": {
          "base_uri": "https://localhost:8080/"
        },
        "id": "zX1CT3pGzh-S",
        "outputId": "d53ebfbb-1fc5-4f23-c94c-034a808f8d0d"
      },
      "outputs": [
        {
          "output_type": "execute_result",
          "data": {
            "text/plain": [
              "22"
            ]
          },
          "metadata": {},
          "execution_count": 20
        }
      ],
      "source": [
        "gc.collect()"
      ]
    },
    {
      "cell_type": "markdown",
      "metadata": {
        "id": "fih61uFKr3-r"
      },
      "source": [
        "### **Exploratory Analysis**"
      ]
    },
    {
      "cell_type": "code",
      "execution_count": 21,
      "metadata": {
        "colab": {
          "base_uri": "https://localhost:8080/",
          "height": 1000
        },
        "id": "8TwDlIWvR4pP",
        "outputId": "9f03a9a5-8aaa-41d0-e7d5-9fbbecdf3649"
      },
      "outputs": [
        {
          "output_type": "display_data",
          "data": {
            "text/plain": [
              "<Figure size 864x576 with 1 Axes>"
            ],
            "image/png": "[encoded data removed]"
          },
          "metadata": {}
        },
        {
          "output_type": "display_data",
          "data": {
            "text/plain": [
              "<Figure size 864x576 with 1 Axes>"
            ],
            "image/png": "[encoded data removed]"
          },
          "metadata": {}
        },
        {
          "output_type": "display_data",
          "data": {
            "text/plain": [
              "<Figure size 864x576 with 1 Axes>"
            ],
            "image/png": "[encoded data removed]"
          },
          "metadata": {}
        },
        {
          "output_type": "display_data",
          "data": {
            "text/plain": [
              "<Figure size 864x576 with 1 Axes>"
            ],
            "image/png": "[encoded data removed]"
          },
          "metadata": {}
        }
      ],
      "source": [
        "# Plot the distribution of numerical variables\n",
        "\n",
        "sns.set_style(\"darkgrid\")\n",
        "\n",
        "for column in df.select_dtypes(include=[np.number]).columns:\n",
        "    plt.figure(figsize=(12, 8))\n",
        "    sns.distplot(df[column], bins=50, color='firebrick')\n",
        "    plt.xlabel(column, fontsize=12)\n",
        "    plt.ylabel('Density', fontsize=12)\n",
        "    plt.title(f'Distribution of {column}', fontsize=16)\n",
        "    plt.tight_layout()\n",
        "    plt.show()\n"
      ]
    },
    {
      "cell_type": "code",
      "execution_count": 22,
      "metadata": {
        "colab": {
          "base_uri": "https://localhost:8080/",
          "height": 1000
        },
        "id": "2NhuIN5WSj5W",
        "outputId": "958a30e1-9294-4096-c187-ff44437f40b5"
      },
      "outputs": [
        {
          "output_type": "display_data",
          "data": {
            "text/plain": [
              "<Figure size 864x576 with 1 Axes>"
            ],
            "image/png": "[encoded data removed]"
          },
          "metadata": {}
        },
        {
          "output_type": "display_data",
          "data": {
            "text/plain": [
              "<Figure size 864x576 with 1 Axes>"
            ],
            "image/png": "[encoded data removed]"
          },
          "metadata": {}
        }
      ],
      "source": [
        "# Plot the distribution of categorical variables\n",
        "\n",
        "for column in df.select_dtypes(include=['object']).columns:\n",
        "    plt.figure(figsize=(12, 8))\n",
        "    sns.countplot(x=column, data=df, color='firebrick')\n",
        "    plt.xlabel(column, fontsize=12)\n",
        "    plt.ylabel('Count', fontsize=12)\n",
        "    plt.title(f'Distribution of {column}', fontsize=15)\n",
        "    plt.show()\n"
      ]
    },
    {
      "cell_type": "markdown",
      "metadata": {
        "id": "6XK7z3pqBIoh"
      },
      "source": [
        "**Findings:**\n",
        "\n",
        "1. Most of the events have taken place between 10 to 5 degrees south of the equator and 115-175 degrees east of the prime meridian. The least number of earthquakes are along the prime meridian give and take 5 degrees and 75-80 degrees north and south of the equator. This means a lot of earhquakes occur along the prime meridian but away from the equator.\n",
        "2. The distribution of magnitude and depth is heavily skewed to the right with most events in the range of 5.5-6 magnitude and 0-40 in depth.\n",
        "3. There are negative values in depth which indicates that earthquakes occurred above the Earth's surface. This can occur in areas where the Earth's surface is unstable, such as those near active volcanic regions, where magma and ash can cause the ground to shake and produce earthquakes.\n",
        "4. The type of event with the most records in this dataset is earthquakes. We will drop rows with other events since they are only 180 and the goal is to predict earthquakes. \n",
        "5. The magnitude type that has the highest frequency is MW followed by MWC"
      ]
    },
    {
      "cell_type": "markdown",
      "metadata": {
        "id": "G6-Csj4s2yaO"
      },
      "source": [
        "### **Pre-Processing**"
      ]
    },
    {
      "cell_type": "code",
      "execution_count": 23,
      "metadata": {
        "colab": {
          "base_uri": "https://localhost:8080/"
        },
        "id": "Uedqw4HABtRa",
        "outputId": "482fbb8b-205d-4244-ad62-28faa6d16ffd"
      },
      "outputs": [
        {
          "output_type": "stream",
          "name": "stdout",
          "text": [
            "Skewness of Magnitude: 1.8500472047368848\n",
            "Skewness of Depth: 3.287643376513829\n"
          ]
        }
      ],
      "source": [
        "# Check the skewness of 'Magnitude' and 'Depth'\n",
        "\n",
        "print('Skewness of Magnitude:', df['Magnitude'].skew())\n",
        "print('Skewness of Depth:', df['Depth'].skew())"
      ]
    },
    {
      "cell_type": "markdown",
      "metadata": {
        "id": "Y6uMAOAhBxva"
      },
      "source": [
        "Both variables are highly skewed hence we will perform log transformation"
      ]
    },
    {
      "cell_type": "code",
      "execution_count": 24,
      "metadata": {
        "colab": {
          "base_uri": "https://localhost:8080/",
          "height": 143
        },
        "id": "SBe7w9IhA-K7",
        "outputId": "9cd5fb0c-f1e6-494f-d4da-8b1f246791f9"
      },
      "outputs": [
        {
          "output_type": "execute_result",
          "data": {
            "text/plain": [
              "                     Latitude  Longitude        Type     Depth  Magnitude  \\\n",
              "Datetime                                                                    \n",
              "1965-01-02 13:44:18    19.246    145.616  Earthquake  4.887337   1.791759   \n",
              "1965-01-04 11:29:49     1.863    127.352  Earthquake  4.394449   1.757858   \n",
              "\n",
              "                    Magnitude Type  \n",
              "Datetime                            \n",
              "1965-01-02 13:44:18             MW  \n",
              "1965-01-04 11:29:49             MW  "
            ],
            "text/html": [
              "\n",
              "  <div id=\"df-c6b7a0f3-9ca8-477a-a60a-e8bc2fb51e5f\">\n",
              "    <div class=\"colab-df-container\">\n",
              "      <div>\n",
              "<style scoped>\n",
              "    .dataframe tbody tr th:only-of-type {\n",
              "        vertical-align: middle;\n",
              "    }\n",
              "\n",
              "    .dataframe tbody tr th {\n",
              "        vertical-align: top;\n",
              "    }\n",
              "\n",
              "    .dataframe thead th {\n",
              "        text-align: right;\n",
              "    }\n",
              "</style>\n",
              "<table border=\"1\" class=\"dataframe\">\n",
              "  <thead>\n",
              "    <tr style=\"text-align: right;\">\n",
              "      <th></th>\n",
              "      <th>Latitude</th>\n",
              "      <th>Longitude</th>\n",
              "      <th>Type</th>\n",
              "      <th>Depth</th>\n",
              "      <th>Magnitude</th>\n",
              "      <th>Magnitude Type</th>\n",
              "    </tr>\n",
              "    <tr>\n",
              "      <th>Datetime</th>\n",
              "      <th></th>\n",
              "      <th></th>\n",
              "      <th></th>\n",
              "      <th></th>\n",
              "      <th></th>\n",
              "      <th></th>\n",
              "    </tr>\n",
              "  </thead>\n",
              "  <tbody>\n",
              "    <tr>\n",
              "      <th>1965-01-02 13:44:18</th>\n",
              "      <td>19.246</td>\n",
              "      <td>145.616</td>\n",
              "      <td>Earthquake</td>\n",
              "      <td>4.887337</td>\n",
              "      <td>1.791759</td>\n",
              "      <td>MW</td>\n",
              "    </tr>\n",
              "    <tr>\n",
              "      <th>1965-01-04 11:29:49</th>\n",
              "      <td>1.863</td>\n",
              "      <td>127.352</td>\n",
              "      <td>Earthquake</td>\n",
              "      <td>4.394449</td>\n",
              "      <td>1.757858</td>\n",
              "      <td>MW</td>\n",
              "    </tr>\n",
              "  </tbody>\n",
              "</table>\n",
              "</div>\n",
              "      <button class=\"colab-df-convert\" onclick=\"convertToInteractive('df-c6b7a0f3-9ca8-477a-a60a-e8bc2fb51e5f')\"\n",
              "              title=\"Convert this dataframe to an interactive table.\"\n",
              "              style=\"display:none;\">\n",
              "        \n",
              "  <svg xmlns=\"http://www.w3.org/2000/svg\" height=\"24px\"viewBox=\"0 0 24 24\"\n",
              "       width=\"24px\">\n",
              "    <path d=\"M0 0h24v24H0V0z\" fill=\"none\"/>\n",
              "    <path d=\"M18.56 5.44l.94 2.06.94-2.06 2.06-.94-2.06-.94-.94-2.06-.94 2.06-2.06.94zm-11 1L8.5 8.5l.94-2.06 2.06-.94-2.06-.94L8.5 2.5l-.94 2.06-2.06.94zm10 10l.94 2.06.94-2.06 2.06-.94-2.06-.94-.94-2.06-.94 2.06-2.06.94z\"/><path d=\"M17.41 7.96l-1.37-1.37c-.4-.4-.92-.59-1.43-.59-.52 0-1.04.2-1.43.59L10.3 9.45l-7.72 7.72c-.78.78-.78 2.05 0 2.83L4 21.41c.39.39.9.59 1.41.59.51 0 1.02-.2 1.41-.59l7.78-7.78 2.81-2.81c.8-.78.8-2.07 0-2.86zM5.41 20L4 18.59l7.72-7.72 1.47 1.35L5.41 20z\"/>\n",
              "  </svg>\n",
              "      </button>\n",
              "      \n",
              "  <style>\n",
              "    .colab-df-container {\n",
              "      display:flex;\n",
              "      flex-wrap:wrap;\n",
              "      gap: 12px;\n",
              "    }\n",
              "\n",
              "    .colab-df-convert {\n",
              "      background-color: #E8F0FE;\n",
              "      border: none;\n",
              "      border-radius: 50%;\n",
              "      cursor: pointer;\n",
              "      display: none;\n",
              "      fill: #1967D2;\n",
              "      height: 32px;\n",
              "      padding: 0 0 0 0;\n",
              "      width: 32px;\n",
              "    }\n",
              "\n",
              "    .colab-df-convert:hover {\n",
              "      background-color: #E2EBFA;\n",
              "      box-shadow: 0px 1px 2px rgba(60, 64, 67, 0.3), 0px 1px 3px 1px rgba(60, 64, 67, 0.15);\n",
              "      fill: #174EA6;\n",
              "    }\n",
              "\n",
              "    [theme=dark] .colab-df-convert {\n",
              "      background-color: #3B4455;\n",
              "      fill: #D2E3FC;\n",
              "    }\n",
              "\n",
              "    [theme=dark] .colab-df-convert:hover {\n",
              "      background-color: #434B5C;\n",
              "      box-shadow: 0px 1px 3px 1px rgba(0, 0, 0, 0.15);\n",
              "      filter: drop-shadow(0px 1px 2px rgba(0, 0, 0, 0.3));\n",
              "      fill: #FFFFFF;\n",
              "    }\n",
              "  </style>\n",
              "\n",
              "      <script>\n",
              "        const buttonEl =\n",
              "          document.querySelector('#df-c6b7a0f3-9ca8-477a-a60a-e8bc2fb51e5f button.colab-df-convert');\n",
              "        buttonEl.style.display =\n",
              "          google.colab.kernel.accessAllowed ? 'block' : 'none';\n",
              "\n",
              "        async function convertToInteractive(key) {\n",
              "          const element = document.querySelector('#df-c6b7a0f3-9ca8-477a-a60a-e8bc2fb51e5f');\n",
              "          const dataTable =\n",
              "            await google.colab.kernel.invokeFunction('convertToInteractive',\n",
              "                                                     [key], {});\n",
              "          if (!dataTable) return;\n",
              "\n",
              "          const docLinkHtml = 'Like what you see? Visit the ' +\n",
              "            '<a target=\"_blank\" href=https://colab.research.google.com/notebooks/data_table.ipynb>data table notebook</a>'\n",
              "            + ' to learn more about interactive tables.';\n",
              "          element.innerHTML = '';\n",
              "          dataTable['output_type'] = 'display_data';\n",
              "          await google.colab.output.renderOutput(dataTable, element);\n",
              "          const docLink = document.createElement('div');\n",
              "          docLink.innerHTML = docLinkHtml;\n",
              "          element.appendChild(docLink);\n",
              "        }\n",
              "      </script>\n",
              "    </div>\n",
              "  </div>\n",
              "  "
            ]
          },
          "metadata": {},
          "execution_count": 24
        }
      ],
      "source": [
        "df['Magnitude'] = np.log(df['Magnitude'])\n",
        "df['Depth'] = np.log(df['Depth'] + 1)\n",
        "df.head(2)"
      ]
    },
    {
      "cell_type": "code",
      "execution_count": 25,
      "metadata": {
        "colab": {
          "base_uri": "https://localhost:8080/"
        },
        "id": "aax7NXs_h_LX",
        "outputId": "ea90c858-07b0-4b2c-b5fe-ebbe48ca277a"
      },
      "outputs": [
        {
          "output_type": "stream",
          "name": "stdout",
          "text": [
            "Region Counts: Region\n",
            "Africa            352\n",
            "Asia             5908\n",
            "Europe            333\n",
            "North America     205\n",
            "Oceania          6030\n",
            "South America     844\n",
            "Name: Latitude, dtype: int64\n"
          ]
        }
      ],
      "source": [
        "# Filter the data to only include events with type == \"Earthquake\"\n",
        "df = df[df['Type'] == \"Earthquake\"]\n",
        "df = df.drop('Type', axis=1) # Dropping the type column since it has earthquakes only\n",
        "\n",
        "# Define the regions based on latitude and longitude ranges\n",
        "regions = {\n",
        "    'North America': [(24, 50), (-125, -60)],\n",
        "    'South America': [(0, 25), (-90, -30)],\n",
        "    'Europe': [(35, 70), (-15, 40)],\n",
        "    'Africa': [(0, 40), (-20, 60)],\n",
        "    'Asia': [(0, 60), (60, 150)],\n",
        "    'Oceania': [(-50, 0), (100, 180)],\n",
        "}\n",
        "\n",
        "# Loop through the DataFrame and determine the region for the earthquakes\n",
        "for i, row in df.iterrows():\n",
        "    lat = row['Latitude']\n",
        "    lon = row['Longitude']\n",
        "    for region, bounds in regions.items():\n",
        "        lat_bounds, lon_bounds = bounds\n",
        "        if lat_bounds[0] < lat < lat_bounds[1] and lon_bounds[0] < lon < lon_bounds[1]:\n",
        "            df.at[i, 'Region'] = region\n",
        "            break\n",
        "\n",
        "# Group the data by region and count the number of earthquakes in each region based on the 'Latitude' variable\n",
        "region_counts = df.groupby(\"Region\").count()['Latitude']\n",
        "df= df.drop('Region', axis=1)\n",
        "print('Region Counts:', region_counts )"
      ]
    },
    {
      "cell_type": "markdown",
      "metadata": {
        "id": "KaQcElaVIOEj"
      },
      "source": [
        "The highest count of earthquakes were recorded in Oceania with 6032 occurrences, while the lowest count was recorded in Europe with 333 occurrences. These results indicate that earthquakes are more likely to occur in Oceania as compared to other regions. This could be due to several factors such as geological conditions and plate tectonics."
      ]
    },
    {
      "cell_type": "code",
      "execution_count": 26,
      "metadata": {
        "colab": {
          "base_uri": "https://localhost:8080/",
          "height": 143
        },
        "id": "5TC1eGkyfK6l",
        "outputId": "5231520c-5487-415d-b3ed-ea2781d9bdc7"
      },
      "outputs": [
        {
          "output_type": "execute_result",
          "data": {
            "text/plain": [
              "                     Latitude  Longitude     Depth  Magnitude Magnitude Type  \\\n",
              "Datetime                                                                       \n",
              "1965-01-02 13:44:18    19.246    145.616  4.887337   1.791759             MW   \n",
              "1965-01-04 11:29:49     1.863    127.352  4.394449   1.757858             MW   \n",
              "\n",
              "                      Distance  \n",
              "Datetime                        \n",
              "1965-01-02 13:44:18        NaN  \n",
              "1965-01-04 11:29:49  2772.5613  "
            ],
            "text/html": [
              "\n",
              "  <div id=\"df-2e8f5f12-639a-4cd5-ad80-5bd510380f5e\">\n",
              "    <div class=\"colab-df-container\">\n",
              "      <div>\n",
              "<style scoped>\n",
              "    .dataframe tbody tr th:only-of-type {\n",
              "        vertical-align: middle;\n",
              "    }\n",
              "\n",
              "    .dataframe tbody tr th {\n",
              "        vertical-align: top;\n",
              "    }\n",
              "\n",
              "    .dataframe thead th {\n",
              "        text-align: right;\n",
              "    }\n",
              "</style>\n",
              "<table border=\"1\" class=\"dataframe\">\n",
              "  <thead>\n",
              "    <tr style=\"text-align: right;\">\n",
              "      <th></th>\n",
              "      <th>Latitude</th>\n",
              "      <th>Longitude</th>\n",
              "      <th>Depth</th>\n",
              "      <th>Magnitude</th>\n",
              "      <th>Magnitude Type</th>\n",
              "      <th>Distance</th>\n",
              "    </tr>\n",
              "    <tr>\n",
              "      <th>Datetime</th>\n",
              "      <th></th>\n",
              "      <th></th>\n",
              "      <th></th>\n",
              "      <th></th>\n",
              "      <th></th>\n",
              "      <th></th>\n",
              "    </tr>\n",
              "  </thead>\n",
              "  <tbody>\n",
              "    <tr>\n",
              "      <th>1965-01-02 13:44:18</th>\n",
              "      <td>19.246</td>\n",
              "      <td>145.616</td>\n",
              "      <td>4.887337</td>\n",
              "      <td>1.791759</td>\n",
              "      <td>MW</td>\n",
              "      <td>NaN</td>\n",
              "    </tr>\n",
              "    <tr>\n",
              "      <th>1965-01-04 11:29:49</th>\n",
              "      <td>1.863</td>\n",
              "      <td>127.352</td>\n",
              "      <td>4.394449</td>\n",
              "      <td>1.757858</td>\n",
              "      <td>MW</td>\n",
              "      <td>2772.5613</td>\n",
              "    </tr>\n",
              "  </tbody>\n",
              "</table>\n",
              "</div>\n",
              "      <button class=\"colab-df-convert\" onclick=\"convertToInteractive('df-2e8f5f12-639a-4cd5-ad80-5bd510380f5e')\"\n",
              "              title=\"Convert this dataframe to an interactive table.\"\n",
              "              style=\"display:none;\">\n",
              "        \n",
              "  <svg xmlns=\"http://www.w3.org/2000/svg\" height=\"24px\"viewBox=\"0 0 24 24\"\n",
              "       width=\"24px\">\n",
              "    <path d=\"M0 0h24v24H0V0z\" fill=\"none\"/>\n",
              "    <path d=\"M18.56 5.44l.94 2.06.94-2.06 2.06-.94-2.06-.94-.94-2.06-.94 2.06-2.06.94zm-11 1L8.5 8.5l.94-2.06 2.06-.94-2.06-.94L8.5 2.5l-.94 2.06-2.06.94zm10 10l.94 2.06.94-2.06 2.06-.94-2.06-.94-.94-2.06-.94 2.06-2.06.94z\"/><path d=\"M17.41 7.96l-1.37-1.37c-.4-.4-.92-.59-1.43-.59-.52 0-1.04.2-1.43.59L10.3 9.45l-7.72 7.72c-.78.78-.78 2.05 0 2.83L4 21.41c.39.39.9.59 1.41.59.51 0 1.02-.2 1.41-.59l7.78-7.78 2.81-2.81c.8-.78.8-2.07 0-2.86zM5.41 20L4 18.59l7.72-7.72 1.47 1.35L5.41 20z\"/>\n",
              "  </svg>\n",
              "      </button>\n",
              "      \n",
              "  <style>\n",
              "    .colab-df-container {\n",
              "      display:flex;\n",
              "      flex-wrap:wrap;\n",
              "      gap: 12px;\n",
              "    }\n",
              "\n",
              "    .colab-df-convert {\n",
              "      background-color: #E8F0FE;\n",
              "      border: none;\n",
              "      border-radius: 50%;\n",
              "      cursor: pointer;\n",
              "      display: none;\n",
              "      fill: #1967D2;\n",
              "      height: 32px;\n",
              "      padding: 0 0 0 0;\n",
              "      width: 32px;\n",
              "    }\n",
              "\n",
              "    .colab-df-convert:hover {\n",
              "      background-color: #E2EBFA;\n",
              "      box-shadow: 0px 1px 2px rgba(60, 64, 67, 0.3), 0px 1px 3px 1px rgba(60, 64, 67, 0.15);\n",
              "      fill: #174EA6;\n",
              "    }\n",
              "\n",
              "    [theme=dark] .colab-df-convert {\n",
              "      background-color: #3B4455;\n",
              "      fill: #D2E3FC;\n",
              "    }\n",
              "\n",
              "    [theme=dark] .colab-df-convert:hover {\n",
              "      background-color: #434B5C;\n",
              "      box-shadow: 0px 1px 3px 1px rgba(0, 0, 0, 0.15);\n",
              "      filter: drop-shadow(0px 1px 2px rgba(0, 0, 0, 0.3));\n",
              "      fill: #FFFFFF;\n",
              "    }\n",
              "  </style>\n",
              "\n",
              "      <script>\n",
              "        const buttonEl =\n",
              "          document.querySelector('#df-2e8f5f12-639a-4cd5-ad80-5bd510380f5e button.colab-df-convert');\n",
              "        buttonEl.style.display =\n",
              "          google.colab.kernel.accessAllowed ? 'block' : 'none';\n",
              "\n",
              "        async function convertToInteractive(key) {\n",
              "          const element = document.querySelector('#df-2e8f5f12-639a-4cd5-ad80-5bd510380f5e');\n",
              "          const dataTable =\n",
              "            await google.colab.kernel.invokeFunction('convertToInteractive',\n",
              "                                                     [key], {});\n",
              "          if (!dataTable) return;\n",
              "\n",
              "          const docLinkHtml = 'Like what you see? Visit the ' +\n",
              "            '<a target=\"_blank\" href=https://colab.research.google.com/notebooks/data_table.ipynb>data table notebook</a>'\n",
              "            + ' to learn more about interactive tables.';\n",
              "          element.innerHTML = '';\n",
              "          dataTable['output_type'] = 'display_data';\n",
              "          await google.colab.output.renderOutput(dataTable, element);\n",
              "          const docLink = document.createElement('div');\n",
              "          docLink.innerHTML = docLinkHtml;\n",
              "          element.appendChild(docLink);\n",
              "        }\n",
              "      </script>\n",
              "    </div>\n",
              "  </div>\n",
              "  "
            ]
          },
          "metadata": {},
          "execution_count": 26
        }
      ],
      "source": [
        "# Calculate the geographical distance between consecutive earthquakes,\n",
        "\n",
        "def haversine_np(lon1, lat1, lon2, lat2):\n",
        "    \"\"\"\n",
        "    Calculate the great circle distance between two points\n",
        "    on the earth (specified in decimal degrees)\n",
        "\n",
        "    All args must be of equal length.    \n",
        "\n",
        "    \"\"\"\n",
        "    lon1, lat1, lon2, lat2 = map(np.radians, [lon1, lat1, lon2, lat2])\n",
        "\n",
        "    a = np.sin((lat2-lat1)/2.0)**2 + \\\n",
        "        np.cos(lat1) * np.cos(lat2) * np.sin((lon2-lon1)/2.0)**2\n",
        "\n",
        "    return 6371 * 2 * np.arcsin(np.sqrt(a))\n",
        "\n",
        "# Calculate the new variable 'Distance'\n",
        "df['Distance'] = haversine_np(df['Longitude'].shift(), df['Latitude'].shift(), df['Longitude'], df['Latitude'])\n",
        "df['Distance'] = round(df['Distance'], 4)\n",
        "df.head(2)"
      ]
    },
    {
      "cell_type": "code",
      "execution_count": 27,
      "metadata": {
        "colab": {
          "base_uri": "https://localhost:8080/"
        },
        "id": "jUaAGT35sBXp",
        "outputId": "98fdcfaf-4523-4270-bd5d-acafc9c819e3"
      },
      "outputs": [
        {
          "output_type": "execute_result",
          "data": {
            "text/plain": [
              "count    23193.00000\n",
              "mean      7354.99166\n",
              "std       5360.58256\n",
              "min          0.00000\n",
              "25%       2646.85020\n",
              "50%       7026.97580\n",
              "75%      11389.57000\n",
              "max      19841.38780\n",
              "Name: Distance, dtype: float64"
            ]
          },
          "metadata": {},
          "execution_count": 27
        }
      ],
      "source": [
        "df['Distance'].describe()"
      ]
    },
    {
      "cell_type": "code",
      "execution_count": 28,
      "metadata": {
        "colab": {
          "base_uri": "https://localhost:8080/"
        },
        "id": "ARuGQ7CvsSQM",
        "outputId": "1a7f9733-3978-4504-dd3f-79eaa96ae793"
      },
      "outputs": [
        {
          "output_type": "stream",
          "name": "stdout",
          "text": [
            "Skewness of Distance: 0.25899021954396945\n"
          ]
        }
      ],
      "source": [
        "print('Skewness of Distance:', df['Distance'].skew())"
      ]
    },
    {
      "cell_type": "code",
      "execution_count": 29,
      "metadata": {
        "colab": {
          "base_uri": "https://localhost:8080/"
        },
        "id": "H1waeF_oide7",
        "outputId": "54d1c461-b63a-4fff-db1c-871eb9436081"
      },
      "outputs": [
        {
          "output_type": "execute_result",
          "data": {
            "text/plain": [
              "(23192, 6)"
            ]
          },
          "metadata": {},
          "execution_count": 29
        }
      ],
      "source": [
        "# Drop the null row created by the 'Distance' \n",
        "\n",
        "df = df.dropna(axis=0)\n",
        "df.shape"
      ]
    },
    {
      "cell_type": "markdown",
      "metadata": {
        "id": "B4gp8uYs8g39"
      },
      "source": [
        "**Temporal Analysis**"
      ]
    },
    {
      "cell_type": "code",
      "execution_count": 30,
      "metadata": {
        "colab": {
          "base_uri": "https://localhost:8080/",
          "height": 112
        },
        "id": "173piFCOh6Xb",
        "outputId": "1b29a105-65cc-4b79-c516-2e4406415ff2"
      },
      "outputs": [
        {
          "output_type": "execute_result",
          "data": {
            "text/plain": [
              "       Latitude  Longitude     Depth  Magnitude Magnitude Type   Distance  \\\n",
              "23190   -9.0283   118.6639  4.382027   1.840550            MWW  5590.6910   \n",
              "23191   37.3973   141.4103  2.560323   1.704748             MB  5679.5166   \n",
              "\n",
              "       Hour       Day     Month  Year  \n",
              "23190    22  Thursday  December  2016  \n",
              "23191    20    Friday  December  2016  "
            ],
            "text/html": [
              "\n",
              "  <div id=\"df-d4851d4b-e357-4bc9-932b-791835a83227\">\n",
              "    <div class=\"colab-df-container\">\n",
              "      <div>\n",
              "<style scoped>\n",
              "    .dataframe tbody tr th:only-of-type {\n",
              "        vertical-align: middle;\n",
              "    }\n",
              "\n",
              "    .dataframe tbody tr th {\n",
              "        vertical-align: top;\n",
              "    }\n",
              "\n",
              "    .dataframe thead th {\n",
              "        text-align: right;\n",
              "    }\n",
              "</style>\n",
              "<table border=\"1\" class=\"dataframe\">\n",
              "  <thead>\n",
              "    <tr style=\"text-align: right;\">\n",
              "      <th></th>\n",
              "      <th>Latitude</th>\n",
              "      <th>Longitude</th>\n",
              "      <th>Depth</th>\n",
              "      <th>Magnitude</th>\n",
              "      <th>Magnitude Type</th>\n",
              "      <th>Distance</th>\n",
              "      <th>Hour</th>\n",
              "      <th>Day</th>\n",
              "      <th>Month</th>\n",
              "      <th>Year</th>\n",
              "    </tr>\n",
              "  </thead>\n",
              "  <tbody>\n",
              "    <tr>\n",
              "      <th>23190</th>\n",
              "      <td>-9.0283</td>\n",
              "      <td>118.6639</td>\n",
              "      <td>4.382027</td>\n",
              "      <td>1.840550</td>\n",
              "      <td>MWW</td>\n",
              "      <td>5590.6910</td>\n",
              "      <td>22</td>\n",
              "      <td>Thursday</td>\n",
              "      <td>December</td>\n",
              "      <td>2016</td>\n",
              "    </tr>\n",
              "    <tr>\n",
              "      <th>23191</th>\n",
              "      <td>37.3973</td>\n",
              "      <td>141.4103</td>\n",
              "      <td>2.560323</td>\n",
              "      <td>1.704748</td>\n",
              "      <td>MB</td>\n",
              "      <td>5679.5166</td>\n",
              "      <td>20</td>\n",
              "      <td>Friday</td>\n",
              "      <td>December</td>\n",
              "      <td>2016</td>\n",
              "    </tr>\n",
              "  </tbody>\n",
              "</table>\n",
              "</div>\n",
              "      <button class=\"colab-df-convert\" onclick=\"convertToInteractive('df-d4851d4b-e357-4bc9-932b-791835a83227')\"\n",
              "              title=\"Convert this dataframe to an interactive table.\"\n",
              "              style=\"display:none;\">\n",
              "        \n",
              "  <svg xmlns=\"http://www.w3.org/2000/svg\" height=\"24px\"viewBox=\"0 0 24 24\"\n",
              "       width=\"24px\">\n",
              "    <path d=\"M0 0h24v24H0V0z\" fill=\"none\"/>\n",
              "    <path d=\"M18.56 5.44l.94 2.06.94-2.06 2.06-.94-2.06-.94-.94-2.06-.94 2.06-2.06.94zm-11 1L8.5 8.5l.94-2.06 2.06-.94-2.06-.94L8.5 2.5l-.94 2.06-2.06.94zm10 10l.94 2.06.94-2.06 2.06-.94-2.06-.94-.94-2.06-.94 2.06-2.06.94z\"/><path d=\"M17.41 7.96l-1.37-1.37c-.4-.4-.92-.59-1.43-.59-.52 0-1.04.2-1.43.59L10.3 9.45l-7.72 7.72c-.78.78-.78 2.05 0 2.83L4 21.41c.39.39.9.59 1.41.59.51 0 1.02-.2 1.41-.59l7.78-7.78 2.81-2.81c.8-.78.8-2.07 0-2.86zM5.41 20L4 18.59l7.72-7.72 1.47 1.35L5.41 20z\"/>\n",
              "  </svg>\n",
              "      </button>\n",
              "      \n",
              "  <style>\n",
              "    .colab-df-container {\n",
              "      display:flex;\n",
              "      flex-wrap:wrap;\n",
              "      gap: 12px;\n",
              "    }\n",
              "\n",
              "    .colab-df-convert {\n",
              "      background-color: #E8F0FE;\n",
              "      border: none;\n",
              "      border-radius: 50%;\n",
              "      cursor: pointer;\n",
              "      display: none;\n",
              "      fill: #1967D2;\n",
              "      height: 32px;\n",
              "      padding: 0 0 0 0;\n",
              "      width: 32px;\n",
              "    }\n",
              "\n",
              "    .colab-df-convert:hover {\n",
              "      background-color: #E2EBFA;\n",
              "      box-shadow: 0px 1px 2px rgba(60, 64, 67, 0.3), 0px 1px 3px 1px rgba(60, 64, 67, 0.15);\n",
              "      fill: #174EA6;\n",
              "    }\n",
              "\n",
              "    [theme=dark] .colab-df-convert {\n",
              "      background-color: #3B4455;\n",
              "      fill: #D2E3FC;\n",
              "    }\n",
              "\n",
              "    [theme=dark] .colab-df-convert:hover {\n",
              "      background-color: #434B5C;\n",
              "      box-shadow: 0px 1px 3px 1px rgba(0, 0, 0, 0.15);\n",
              "      filter: drop-shadow(0px 1px 2px rgba(0, 0, 0, 0.3));\n",
              "      fill: #FFFFFF;\n",
              "    }\n",
              "  </style>\n",
              "\n",
              "      <script>\n",
              "        const buttonEl =\n",
              "          document.querySelector('#df-d4851d4b-e357-4bc9-932b-791835a83227 button.colab-df-convert');\n",
              "        buttonEl.style.display =\n",
              "          google.colab.kernel.accessAllowed ? 'block' : 'none';\n",
              "\n",
              "        async function convertToInteractive(key) {\n",
              "          const element = document.querySelector('#df-d4851d4b-e357-4bc9-932b-791835a83227');\n",
              "          const dataTable =\n",
              "            await google.colab.kernel.invokeFunction('convertToInteractive',\n",
              "                                                     [key], {});\n",
              "          if (!dataTable) return;\n",
              "\n",
              "          const docLinkHtml = 'Like what you see? Visit the ' +\n",
              "            '<a target=\"_blank\" href=https://colab.research.google.com/notebooks/data_table.ipynb>data table notebook</a>'\n",
              "            + ' to learn more about interactive tables.';\n",
              "          element.innerHTML = '';\n",
              "          dataTable['output_type'] = 'display_data';\n",
              "          await google.colab.output.renderOutput(dataTable, element);\n",
              "          const docLink = document.createElement('div');\n",
              "          docLink.innerHTML = docLinkHtml;\n",
              "          element.appendChild(docLink);\n",
              "        }\n",
              "      </script>\n",
              "    </div>\n",
              "  </div>\n",
              "  "
            ]
          },
          "metadata": {},
          "execution_count": 30
        }
      ],
      "source": [
        "# Create hour, day month and year variables from the 'Datetime' column\n",
        "\n",
        "df['Hour'] = df.index.hour\n",
        "df['Day'] = df.index.day_name()\n",
        "df['Month'] = df.index.strftime('%B')\n",
        "df['Year'] = df.index.year\n",
        "\n",
        "df = df.reset_index()\n",
        "\n",
        "# Drop the 'Datetime' column\n",
        "df = df.drop('Datetime', axis=1)\n",
        "\n",
        "df.tail(2)"
      ]
    },
    {
      "cell_type": "code",
      "execution_count": 31,
      "metadata": {
        "colab": {
          "base_uri": "https://localhost:8080/",
          "height": 1000
        },
        "id": "7WFpnEuKeHlh",
        "outputId": "cfd8a347-5974-40f0-b9ce-6dc982d2779b"
      },
      "outputs": [
        {
          "output_type": "display_data",
          "data": {
            "text/plain": [
              "<Figure size 720x432 with 1 Axes>"
            ],
            "image/png": "[encoded data removed]"
          },
          "metadata": {}
        },
        {
          "output_type": "display_data",
          "data": {
            "text/plain": [
              "<Figure size 720x432 with 1 Axes>"
            ],
            "image/png": "[encoded data removed]"
          },
          "metadata": {}
        },
        {
          "output_type": "display_data",
          "data": {
            "text/plain": [
              "<Figure size 720x432 with 1 Axes>"
            ],
            "image/png": "[encoded data removed]"
          },
          "metadata": {}
        },
        {
          "output_type": "display_data",
          "data": {
            "text/plain": [
              "<Figure size 720x432 with 1 Axes>"
            ],
            "image/png": "[encoded data removed]"
          },
          "metadata": {}
        }
      ],
      "source": [
        "# Create separate plots for each of the 'Year', 'Month', 'Day' and 'Hour' columns\n",
        "\n",
        "for column in ['Year', 'Month', 'Day', 'Hour']:\n",
        "    plt.figure(figsize=(10,6))\n",
        "    sns.histplot(df[column], bins=70, color='firebrick', kde=False)\n",
        "    plt.xlabel(column, fontsize=12, labelpad=10)\n",
        "    plt.ylabel('Count', fontsize=12, labelpad=10)\n",
        "    plt.title(f'Distribution of Earthquakes based on {column}', fontsize=15)\n",
        "    plt.tight_layout()\n",
        "    sns.despine()\n",
        "    plt.show()\n"
      ]
    },
    {
      "cell_type": "markdown",
      "metadata": {
        "id": "Np5dz_b8b8gj"
      },
      "source": [
        "Conclusion:\n",
        "1. 2011 had the highest number of earthquakes recorded : 713, while the least was 1966 with 233 which would be because there were those not recorded in the earlier years. \n",
        "2. March had more records with 2104 cases while June had the least number of cases with 1807. \n",
        "3. The 11th day of the month is the most likely to experience an earthquake since it has the highest number with 900, followed by the 17 th day with 840 while the 31st is least likely to have an earthquake since it has 345 cases.\n",
        "4. The 13 hour of the day is most likely to have an earthquake with 1055 cases while the 16 hour is the least likely with 909 cases."
      ]
    },
    {
      "cell_type": "code",
      "execution_count": 32,
      "metadata": {
        "colab": {
          "base_uri": "https://localhost:8080/"
        },
        "id": "thXLXYzeyBBE",
        "outputId": "7ee04782-8967-45d9-8982-b13077c5cf25"
      },
      "outputs": [
        {
          "output_type": "execute_result",
          "data": {
            "text/plain": [
              "MW     7717\n",
              "MWC    5650\n",
              "MB     3594\n",
              "MWB    2457\n",
              "MWW    1983\n",
              "MS     1700\n",
              "ML       56\n",
              "MWR      26\n",
              "MH        5\n",
              "MD        4\n",
              "Name: Magnitude Type, dtype: int64"
            ]
          },
          "metadata": {},
          "execution_count": 32
        }
      ],
      "source": [
        "df['Magnitude Type'].value_counts()"
      ]
    },
    {
      "cell_type": "code",
      "execution_count": 33,
      "metadata": {
        "colab": {
          "base_uri": "https://localhost:8080/"
        },
        "id": "N1PaZb5D02f1",
        "outputId": "e3500ab0-c489-4581-b98f-31a08807c863"
      },
      "outputs": [
        {
          "output_type": "stream",
          "name": "stdout",
          "text": [
            "MW       7717\n",
            "MWC      5650\n",
            "MB       3594\n",
            "MWB      2457\n",
            "MWW      1983\n",
            "MS       1700\n",
            "Other      91\n",
            "Name: Magnitude Type, dtype: int64\n"
          ]
        }
      ],
      "source": [
        "# Group categories with frequency less than 1000\n",
        "\n",
        "other_cutoff = 1000\n",
        "df['Magnitude Type'] = np.where(df['Magnitude Type'].isin(df['Magnitude Type'].value_counts()[df['Magnitude Type'].value_counts() < other_cutoff].index), 'Other', df['Magnitude Type'])\n",
        "\n",
        "# Print the reduced categories\n",
        "print(df['Magnitude Type'].value_counts())\n"
      ]
    },
    {
      "cell_type": "code",
      "execution_count": 34,
      "metadata": {
        "colab": {
          "base_uri": "https://localhost:8080/",
          "height": 269
        },
        "id": "GYpxlMPCb8C2",
        "outputId": "b77f2a50-af04-400c-d72c-dcf5707277d4"
      },
      "outputs": [
        {
          "output_type": "execute_result",
          "data": {
            "text/plain": [
              "           Latitude  Longitude     Depth  Magnitude  Distance      Hour  \\\n",
              "Latitude   1.000000   0.205608 -0.022254   0.034150 -0.054259  0.000692   \n",
              "Longitude  0.205608   1.000000  0.009001   0.037774 -0.183224 -0.010519   \n",
              "Depth     -0.022254   0.009001  1.000000   0.000508  0.009599  0.004205   \n",
              "Magnitude  0.034150   0.037774  0.000508   1.000000 -0.001090  0.005351   \n",
              "Distance  -0.054259  -0.183224  0.009599  -0.001090  1.000000  0.005758   \n",
              "Hour       0.000692  -0.010519  0.004205   0.005351  0.005758  1.000000   \n",
              "Year      -0.068453  -0.038663 -0.149963  -0.034246 -0.005211 -0.001444   \n",
              "\n",
              "               Year  \n",
              "Latitude  -0.068453  \n",
              "Longitude -0.038663  \n",
              "Depth     -0.149963  \n",
              "Magnitude -0.034246  \n",
              "Distance  -0.005211  \n",
              "Hour      -0.001444  \n",
              "Year       1.000000  "
            ],
            "text/html": [
              "\n",
              "  <div id=\"df-10ae50ee-321d-4474-bd71-f0c0f5cfe44f\">\n",
              "    <div class=\"colab-df-container\">\n",
              "      <div>\n",
              "<style scoped>\n",
              "    .dataframe tbody tr th:only-of-type {\n",
              "        vertical-align: middle;\n",
              "    }\n",
              "\n",
              "    .dataframe tbody tr th {\n",
              "        vertical-align: top;\n",
              "    }\n",
              "\n",
              "    .dataframe thead th {\n",
              "        text-align: right;\n",
              "    }\n",
              "</style>\n",
              "<table border=\"1\" class=\"dataframe\">\n",
              "  <thead>\n",
              "    <tr style=\"text-align: right;\">\n",
              "      <th></th>\n",
              "      <th>Latitude</th>\n",
              "      <th>Longitude</th>\n",
              "      <th>Depth</th>\n",
              "      <th>Magnitude</th>\n",
              "      <th>Distance</th>\n",
              "      <th>Hour</th>\n",
              "      <th>Year</th>\n",
              "    </tr>\n",
              "  </thead>\n",
              "  <tbody>\n",
              "    <tr>\n",
              "      <th>Latitude</th>\n",
              "      <td>1.000000</td>\n",
              "      <td>0.205608</td>\n",
              "      <td>-0.022254</td>\n",
              "      <td>0.034150</td>\n",
              "      <td>-0.054259</td>\n",
              "      <td>0.000692</td>\n",
              "      <td>-0.068453</td>\n",
              "    </tr>\n",
              "    <tr>\n",
              "      <th>Longitude</th>\n",
              "      <td>0.205608</td>\n",
              "      <td>1.000000</td>\n",
              "      <td>0.009001</td>\n",
              "      <td>0.037774</td>\n",
              "      <td>-0.183224</td>\n",
              "      <td>-0.010519</td>\n",
              "      <td>-0.038663</td>\n",
              "    </tr>\n",
              "    <tr>\n",
              "      <th>Depth</th>\n",
              "      <td>-0.022254</td>\n",
              "      <td>0.009001</td>\n",
              "      <td>1.000000</td>\n",
              "      <td>0.000508</td>\n",
              "      <td>0.009599</td>\n",
              "      <td>0.004205</td>\n",
              "      <td>-0.149963</td>\n",
              "    </tr>\n",
              "    <tr>\n",
              "      <th>Magnitude</th>\n",
              "      <td>0.034150</td>\n",
              "      <td>0.037774</td>\n",
              "      <td>0.000508</td>\n",
              "      <td>1.000000</td>\n",
              "      <td>-0.001090</td>\n",
              "      <td>0.005351</td>\n",
              "      <td>-0.034246</td>\n",
              "    </tr>\n",
              "    <tr>\n",
              "      <th>Distance</th>\n",
              "      <td>-0.054259</td>\n",
              "      <td>-0.183224</td>\n",
              "      <td>0.009599</td>\n",
              "      <td>-0.001090</td>\n",
              "      <td>1.000000</td>\n",
              "      <td>0.005758</td>\n",
              "      <td>-0.005211</td>\n",
              "    </tr>\n",
              "    <tr>\n",
              "      <th>Hour</th>\n",
              "      <td>0.000692</td>\n",
              "      <td>-0.010519</td>\n",
              "      <td>0.004205</td>\n",
              "      <td>0.005351</td>\n",
              "      <td>0.005758</td>\n",
              "      <td>1.000000</td>\n",
              "      <td>-0.001444</td>\n",
              "    </tr>\n",
              "    <tr>\n",
              "      <th>Year</th>\n",
              "      <td>-0.068453</td>\n",
              "      <td>-0.038663</td>\n",
              "      <td>-0.149963</td>\n",
              "      <td>-0.034246</td>\n",
              "      <td>-0.005211</td>\n",
              "      <td>-0.001444</td>\n",
              "      <td>1.000000</td>\n",
              "    </tr>\n",
              "  </tbody>\n",
              "</table>\n",
              "</div>\n",
              "      <button class=\"colab-df-convert\" onclick=\"convertToInteractive('df-10ae50ee-321d-4474-bd71-f0c0f5cfe44f')\"\n",
              "              title=\"Convert this dataframe to an interactive table.\"\n",
              "              style=\"display:none;\">\n",
              "        \n",
              "  <svg xmlns=\"http://www.w3.org/2000/svg\" height=\"24px\"viewBox=\"0 0 24 24\"\n",
              "       width=\"24px\">\n",
              "    <path d=\"M0 0h24v24H0V0z\" fill=\"none\"/>\n",
              "    <path d=\"M18.56 5.44l.94 2.06.94-2.06 2.06-.94-2.06-.94-.94-2.06-.94 2.06-2.06.94zm-11 1L8.5 8.5l.94-2.06 2.06-.94-2.06-.94L8.5 2.5l-.94 2.06-2.06.94zm10 10l.94 2.06.94-2.06 2.06-.94-2.06-.94-.94-2.06-.94 2.06-2.06.94z\"/><path d=\"M17.41 7.96l-1.37-1.37c-.4-.4-.92-.59-1.43-.59-.52 0-1.04.2-1.43.59L10.3 9.45l-7.72 7.72c-.78.78-.78 2.05 0 2.83L4 21.41c.39.39.9.59 1.41.59.51 0 1.02-.2 1.41-.59l7.78-7.78 2.81-2.81c.8-.78.8-2.07 0-2.86zM5.41 20L4 18.59l7.72-7.72 1.47 1.35L5.41 20z\"/>\n",
              "  </svg>\n",
              "      </button>\n",
              "      \n",
              "  <style>\n",
              "    .colab-df-container {\n",
              "      display:flex;\n",
              "      flex-wrap:wrap;\n",
              "      gap: 12px;\n",
              "    }\n",
              "\n",
              "    .colab-df-convert {\n",
              "      background-color: #E8F0FE;\n",
              "      border: none;\n",
              "      border-radius: 50%;\n",
              "      cursor: pointer;\n",
              "      display: none;\n",
              "      fill: #1967D2;\n",
              "      height: 32px;\n",
              "      padding: 0 0 0 0;\n",
              "      width: 32px;\n",
              "    }\n",
              "\n",
              "    .colab-df-convert:hover {\n",
              "      background-color: #E2EBFA;\n",
              "      box-shadow: 0px 1px 2px rgba(60, 64, 67, 0.3), 0px 1px 3px 1px rgba(60, 64, 67, 0.15);\n",
              "      fill: #174EA6;\n",
              "    }\n",
              "\n",
              "    [theme=dark] .colab-df-convert {\n",
              "      background-color: #3B4455;\n",
              "      fill: #D2E3FC;\n",
              "    }\n",
              "\n",
              "    [theme=dark] .colab-df-convert:hover {\n",
              "      background-color: #434B5C;\n",
              "      box-shadow: 0px 1px 3px 1px rgba(0, 0, 0, 0.15);\n",
              "      filter: drop-shadow(0px 1px 2px rgba(0, 0, 0, 0.3));\n",
              "      fill: #FFFFFF;\n",
              "    }\n",
              "  </style>\n",
              "\n",
              "      <script>\n",
              "        const buttonEl =\n",
              "          document.querySelector('#df-10ae50ee-321d-4474-bd71-f0c0f5cfe44f button.colab-df-convert');\n",
              "        buttonEl.style.display =\n",
              "          google.colab.kernel.accessAllowed ? 'block' : 'none';\n",
              "\n",
              "        async function convertToInteractive(key) {\n",
              "          const element = document.querySelector('#df-10ae50ee-321d-4474-bd71-f0c0f5cfe44f');\n",
              "          const dataTable =\n",
              "            await google.colab.kernel.invokeFunction('convertToInteractive',\n",
              "                                                     [key], {});\n",
              "          if (!dataTable) return;\n",
              "\n",
              "          const docLinkHtml = 'Like what you see? Visit the ' +\n",
              "            '<a target=\"_blank\" href=https://colab.research.google.com/notebooks/data_table.ipynb>data table notebook</a>'\n",
              "            + ' to learn more about interactive tables.';\n",
              "          element.innerHTML = '';\n",
              "          dataTable['output_type'] = 'display_data';\n",
              "          await google.colab.output.renderOutput(dataTable, element);\n",
              "          const docLink = document.createElement('div');\n",
              "          docLink.innerHTML = docLinkHtml;\n",
              "          element.appendChild(docLink);\n",
              "        }\n",
              "      </script>\n",
              "    </div>\n",
              "  </div>\n",
              "  "
            ]
          },
          "metadata": {},
          "execution_count": 34
        }
      ],
      "source": [
        "df.corr()"
      ]
    },
    {
      "cell_type": "code",
      "execution_count": 35,
      "metadata": {
        "colab": {
          "base_uri": "https://localhost:8080/"
        },
        "id": "nxE3z3uydSCT",
        "outputId": "eaac88a1-d38b-4616-cc45-298fe93f0a1b"
      },
      "outputs": [
        {
          "output_type": "stream",
          "name": "stdout",
          "text": [
            "     feature         VIF\n",
            "0   Latitude    1.048668\n",
            "1  Longitude    1.188210\n",
            "2      Depth   12.630691\n",
            "3  Magnitude  647.180771\n",
            "4   Distance    2.983582\n",
            "5       Hour    3.780707\n",
            "6       Year  655.602150\n"
          ]
        }
      ],
      "source": [
        "# Extract the numerical features you want to check for multicollinearity\n",
        "num_features = df.select_dtypes(include=['float64', 'int64'])\n",
        "from statsmodels.stats.outliers_influence import variance_inflation_factor\n",
        "# Compute the VIF for each feature\n",
        "vif = pd.DataFrame()\n",
        "vif[\"feature\"] = num_features.columns\n",
        "vif[\"VIF\"] = [variance_inflation_factor(num_features.values, i) for i in range(num_features.shape[1])]\n",
        "\n",
        "# Print the VIF for each feature\n",
        "print(vif)"
      ]
    },
    {
      "cell_type": "markdown",
      "metadata": {
        "id": "p6EZIEC0fsnm"
      },
      "source": [
        "The features have "
      ]
    },
    {
      "cell_type": "code",
      "source": [
        "# Encode the categorical features\n",
        "\n",
        "df = pd.get_dummies(df)"
      ],
      "metadata": {
        "id": "UbVMotmeO9kk"
      },
      "execution_count": 36,
      "outputs": []
    },
    {
      "cell_type": "code",
      "execution_count": 37,
      "metadata": {
        "colab": {
          "base_uri": "https://localhost:8080/"
        },
        "id": "QeH2xQlpzW1z",
        "outputId": "4425c9b1-0584-42f9-8e47-27c42cd5325a"
      },
      "outputs": [
        {
          "output_type": "execute_result",
          "data": {
            "text/plain": [
              "49172"
            ]
          },
          "metadata": {},
          "execution_count": 37
        }
      ],
      "source": [
        "gc.collect()"
      ]
    },
    {
      "cell_type": "markdown",
      "metadata": {
        "id": "wXCF5YF4Adhn"
      },
      "source": [
        "### **Modeling**"
      ]
    },
    {
      "cell_type": "code",
      "execution_count": 38,
      "metadata": {
        "id": "RqBTvTRoAiGw"
      },
      "outputs": [],
      "source": [
        "# Split into features and target \n",
        "\n",
        "X = df.drop('Magnitude', axis=1)\n",
        "y = df['Magnitude']\n",
        "\n",
        "# Split the data into train and test \n",
        "\n",
        "X_train, X_test, y_train, y_test = train_test_split(X, y, test_size=0.3, random_state=42)"
      ]
    },
    {
      "cell_type": "code",
      "execution_count": 39,
      "metadata": {
        "id": "NJsFeiZ_Bwo4"
      },
      "outputs": [],
      "source": [
        "scaler = StandardScaler()\n",
        "\n",
        "# Remove 'Depth' from X_train and X_test\n",
        "X_train_scaled = X_train.drop(columns=['Depth'])  # Depth has been log transformed\n",
        "X_test_scaled = X_test.drop(columns=['Depth'])\n",
        "\n",
        "# Scale the remaining features\n",
        "\n",
        "X_train_scaled = scaler.fit_transform(X_train_scaled)\n",
        "X_test_scaled = scaler.transform(X_test_scaled)\n",
        "\n",
        "# Combine the scaled features with the scaled 'Depth' column\n",
        "\n",
        "X_train_scaled = np.hstack((X_train_scaled, X_train['Depth'].values.reshape(-1, 1)))\n",
        "X_test_scaled = np.hstack((X_test_scaled, X_test['Depth'].values.reshape(-1, 1)))"
      ]
    },
    {
      "cell_type": "code",
      "execution_count": 40,
      "metadata": {
        "id": "KjmFSeINYbHz"
      },
      "outputs": [],
      "source": [
        "# create new dataframes with the scaled data and original column names\n",
        "X_train = pd.DataFrame(X_train_scaled, columns=X_train.columns)\n",
        "X_test = pd.DataFrame(X_test_scaled, columns=X_test.columns)\n",
        "\n",
        "y_train = y_train.to_numpy().reshape(-1, 1)\n",
        "y_test = y_test.to_numpy().reshape(-1, 1)"
      ]
    },
    {
      "cell_type": "code",
      "execution_count": 41,
      "metadata": {
        "colab": {
          "base_uri": "https://localhost:8080/"
        },
        "id": "eVxhPUdoc4mv",
        "outputId": "69f1e320-b51e-4da7-fef3-3b406ffe85e6"
      },
      "outputs": [
        {
          "output_type": "execute_result",
          "data": {
            "text/plain": [
              "((16234, 32), (16234, 1), (6958, 32), (6958, 1))"
            ]
          },
          "metadata": {},
          "execution_count": 41
        }
      ],
      "source": [
        "X_train.shape, y_train.shape, X_test.shape, y_test.shape"
      ]
    },
    {
      "cell_type": "markdown",
      "metadata": {
        "id": "KpMNK0cxdwk9"
      },
      "source": [
        "**Random Forest Regressor**"
      ]
    },
    {
      "cell_type": "code",
      "execution_count": 42,
      "metadata": {
        "id": "E0nwUg5yve-h",
        "colab": {
          "base_uri": "https://localhost:8080/"
        },
        "outputId": "5bb70ee3-9acc-4274-bf1c-b6681633df50"
      },
      "outputs": [
        {
          "output_type": "stream",
          "name": "stdout",
          "text": [
            "Mean squared error: 0.004102\n",
            "Root Mean Squared Error :0.064045\n"
          ]
        }
      ],
      "source": [
        "# Create and train the model\n",
        "model1 = RandomForestRegressor(n_estimators=200, random_state=42)\n",
        "model1.fit(X_train, y_train)\n",
        "\n",
        "# Make predictions on the testing set\n",
        "y_pred = model1.predict(X_test)\n",
        "\n",
        "# Evaluate the model performance\n",
        "mse = mean_squared_error(y_test, y_pred)\n",
        "rmse = np.sqrt(mse)\n",
        "\n",
        "print(\"Mean squared error: {:.6f}\".format(mse))\n",
        "print(\"Root Mean Squared Error :{:.6f}\".format(rmse))"
      ]
    },
    {
      "cell_type": "code",
      "execution_count": 43,
      "metadata": {
        "colab": {
          "base_uri": "https://localhost:8080/"
        },
        "id": "BsrukB8VMUl3",
        "outputId": "b9ecd286-b961-4718-eba0-bf1749c9c07b"
      },
      "outputs": [
        {
          "output_type": "stream",
          "name": "stdout",
          "text": [
            "Random Forest feature importances:\n",
            "Longitude: 0.1422\n",
            "Latitude: 0.1369\n",
            "Depth: 0.1368\n",
            "Month_September: 0.1271\n",
            "Hour: 0.1132\n",
            "Distance: 0.0888\n",
            "Year: 0.0459\n",
            "Magnitude Type_Other: 0.0115\n",
            "Day_Friday: 0.0113\n",
            "Day_Tuesday: 0.0108\n",
            "Day_Saturday: 0.0107\n",
            "Day_Monday: 0.0106\n",
            "Day_Sunday: 0.0103\n",
            "Month_November: 0.0101\n",
            "Day_Thursday: 0.0100\n",
            "Month_May: 0.0096\n",
            "Day_Wednesday: 0.0095\n",
            "Month_June: 0.0095\n",
            "Month_March: 0.0093\n",
            "Month_July: 0.0091\n",
            "Month_April: 0.0090\n",
            "Month_August: 0.0089\n",
            "Month_February: 0.0086\n",
            "Month_January: 0.0083\n",
            "Month_October: 0.0083\n",
            "Magnitude Type_MWC: 0.0082\n",
            "Month_December: 0.0076\n",
            "Magnitude Type_MW: 0.0058\n",
            "Magnitude Type_MS: 0.0057\n",
            "Magnitude Type_MWB: 0.0031\n",
            "Magnitude Type_MB: 0.0027\n",
            "Magnitude Type_MWW: 0.0005\n"
          ]
        }
      ],
      "source": [
        "# Extract the feature importances as a dictionary\n",
        "\n",
        "importances = model1.feature_importances_\n",
        "importances_dict = dict(zip(X_train.columns, importances))\n",
        "\n",
        "print(\"Random Forest feature importances:\")\n",
        "for feature, importance in sorted(importances_dict.items(), key=lambda x: x[1], reverse=True):\n",
        "    print(f\"{feature}: {importance:.4f}\")"
      ]
    },
    {
      "cell_type": "code",
      "source": [
        "# Plot feature importances\n",
        "\n",
        "importances_sorted = sorted(importances_dict.items(), key=lambda x: x[1], reverse=True)\n",
        "features, importances = zip(*importances_sorted)\n",
        "\n",
        "plt.figure(figsize=(10,8))\n",
        "plt.bar(features, importances, color='firebrick')\n",
        "plt.xticks(rotation=90)\n",
        "plt.title(\"Random Forest Feature Importances\")\n",
        "plt.show()"
      ],
      "metadata": {
        "colab": {
          "base_uri": "https://localhost:8080/",
          "height": 601
        },
        "id": "7gZBdJmcuwpC",
        "outputId": "fc3b48da-79a7-4772-d7c1-f5817858582c"
      },
      "execution_count": 44,
      "outputs": [
        {
          "output_type": "display_data",
          "data": {
            "text/plain": [
              "<Figure size 720x576 with 1 Axes>"
            ],
            "image/png": "[encoded data removed]"
          },
          "metadata": {}
        }
      ]
    },
    {
      "cell_type": "code",
      "execution_count": 45,
      "metadata": {
        "colab": {
          "base_uri": "https://localhost:8080/"
        },
        "id": "iEHSc1-ekfr-",
        "outputId": "513de981-66b0-4ebe-f9d0-7f96cf72e13c"
      },
      "outputs": [
        {
          "output_type": "stream",
          "name": "stdout",
          "text": [
            "Mean squared error: 0.004096\n",
            "Root Mean Squared Error :0.063998\n"
          ]
        }
      ],
      "source": [
        "# Select k features based on feature importances\n",
        "\n",
        "importances = model1.feature_importances_\n",
        "\n",
        "k = 29\n",
        "top_k = importances.argsort()[::-1][:k]\n",
        "\n",
        "X_train_top_k = X_train.iloc[:, top_k]\n",
        "X_test_top_k = X_test.iloc[:, top_k]\n",
        "\n",
        "# Train model on selected features\n",
        "model1.fit(X_train_top_k, y_train)\n",
        "\n",
        "# Predictions\n",
        "y_pred_top_k = model1.predict(X_test_top_k)\n",
        "\n",
        "#Evaluate model \n",
        "mse= mean_squared_error(y_test, y_pred_top_k)\n",
        "rmse = np.sqrt(mse)\n",
        "\n",
        "print(\"Mean squared error: {:.6f}\".format(mse))\n",
        "print(\"Root Mean Squared Error :{:.6f}\".format(rmse))"
      ]
    },
    {
      "cell_type": "markdown",
      "metadata": {
        "id": "4E05aheh_DkV"
      },
      "source": [
        "**Decision Tree Regressor**"
      ]
    },
    {
      "cell_type": "code",
      "execution_count": 46,
      "metadata": {
        "colab": {
          "base_uri": "https://localhost:8080/"
        },
        "id": "HAz6ccS9xFQi",
        "outputId": "ace9e49d-3d89-4393-f746-e708da47a6f7"
      },
      "outputs": [
        {
          "output_type": "stream",
          "name": "stdout",
          "text": [
            "Mean squared error: 0.0079\n",
            "Root Mean Squared Error :0.0888\n"
          ]
        }
      ],
      "source": [
        "# Create and train the model\n",
        "\n",
        "model2 =DecisionTreeRegressor(random_state=42)\n",
        "model2.fit(X_train, y_train)\n",
        "\n",
        "# Make predictions on the testing set\n",
        "y_pred = model2.predict(X_test)\n",
        "\n",
        "# Evaluate the model performance\n",
        "mse = mean_squared_error(y_test, y_pred)\n",
        "rmse = np.sqrt(mse)\n",
        "\n",
        "print(\"Mean squared error: {:.4f}\".format(mse))\n",
        "print(\"Root Mean Squared Error :{:.4f}\".format(rmse))"
      ]
    },
    {
      "cell_type": "code",
      "execution_count": 47,
      "metadata": {
        "colab": {
          "base_uri": "https://localhost:8080/"
        },
        "id": "JkS8cmCGa4_-",
        "outputId": "e33eed77-2bee-4165-e4bc-c35e5e27ecab"
      },
      "outputs": [
        {
          "output_type": "stream",
          "name": "stdout",
          "text": [
            "Decion Tree feature importances:\n",
            "Longitude: 0.1473\n",
            "Latitude: 0.1422\n",
            "Depth: 0.1319\n",
            "Month_September: 0.1165\n",
            "Hour: 0.1151\n",
            "Distance: 0.0885\n",
            "Year: 0.0457\n",
            "Day_Tuesday: 0.0134\n",
            "Month_June: 0.0126\n",
            "Day_Saturday: 0.0124\n",
            "Month_November: 0.0113\n",
            "Day_Sunday: 0.0109\n",
            "Magnitude Type_Other: 0.0108\n",
            "Month_May: 0.0103\n",
            "Month_August: 0.0102\n",
            "Day_Thursday: 0.0102\n",
            "Day_Friday: 0.0099\n",
            "Day_Wednesday: 0.0099\n",
            "Month_October: 0.0096\n",
            "Day_Monday: 0.0094\n",
            "Month_February: 0.0093\n",
            "Month_March: 0.0088\n",
            "Month_July: 0.0086\n",
            "Month_January: 0.0084\n",
            "Month_December: 0.0079\n",
            "Magnitude Type_MWC: 0.0079\n",
            "Month_April: 0.0067\n",
            "Magnitude Type_MS: 0.0067\n",
            "Magnitude Type_MW: 0.0042\n",
            "Magnitude Type_MWB: 0.0016\n",
            "Magnitude Type_MB: 0.0013\n",
            "Magnitude Type_MWW: 0.0005\n"
          ]
        }
      ],
      "source": [
        "# Extract the feature importances as a dictionary\n",
        "\n",
        "importances = model2.feature_importances_\n",
        "importances_dict = dict(zip(X_train.columns, importances))\n",
        "\n",
        "print(\"Decion Tree feature importances:\")\n",
        "for feature, importance in sorted(importances_dict.items(), key=lambda x: x[1], reverse=True):\n",
        "    print(f\"{feature}: {importance:.4f}\")"
      ]
    },
    {
      "cell_type": "code",
      "source": [
        "# Plot feature importances\n",
        "\n",
        "importances_sorted = sorted(importances_dict.items(), key=lambda x: x[1], reverse=True)\n",
        "features, importances = zip(*importances_sorted)\n",
        "\n",
        "plt.figure(figsize=(10,8))\n",
        "plt.bar(features, importances, color='firebrick')\n",
        "plt.xticks(rotation=90)\n",
        "plt.title(\"Decision Tree Feature Importances\")\n",
        "plt.show()"
      ],
      "metadata": {
        "colab": {
          "base_uri": "https://localhost:8080/",
          "height": 601
        },
        "id": "lrMDVV7T13aE",
        "outputId": "046bda55-826e-4824-e034-d4c735e0526d"
      },
      "execution_count": 48,
      "outputs": [
        {
          "output_type": "display_data",
          "data": {
            "text/plain": [
              "<Figure size 720x576 with 1 Axes>"
            ],
            "image/png": "[encoded data removed]"
          },
          "metadata": {}
        }
      ]
    },
    {
      "cell_type": "code",
      "source": [
        "# Select k features based on feature importances\n",
        "\n",
        "importances = model2.feature_importances_\n",
        "\n",
        "k = 33\n",
        "top_k = importances.argsort()[::-1][:k]\n",
        "\n",
        "X_train_top_k = X_train.iloc[:, top_k]\n",
        "X_test_top_k = X_test.iloc[:, top_k]\n",
        "\n",
        "# Train model on selected features\n",
        "model2.fit(X_train_top_k, y_train)\n",
        "\n",
        "# Predictions\n",
        "y_pred_top_k = model2.predict(X_test_top_k)\n",
        "\n",
        "#Evaluate model \n",
        "mse= mean_squared_error(y_test, y_pred_top_k)\n",
        "rmse = np.sqrt(mse)\n",
        "\n",
        "print(\"Mean squared error: {:.6f}\".format(mse))\n",
        "print(\"Root Mean Squared Error :{:.6f}\".format(rmse))"
      ],
      "metadata": {
        "colab": {
          "base_uri": "https://localhost:8080/"
        },
        "id": "QzS2xwJh691O",
        "outputId": "9d26630b-eb8c-4c1c-8cac-665669a3a317"
      },
      "execution_count": 49,
      "outputs": [
        {
          "output_type": "stream",
          "name": "stdout",
          "text": [
            "Mean squared error: 0.008018\n",
            "Root Mean Squared Error :0.089541\n"
          ]
        }
      ]
    }
  ],
  "metadata": {
    "colab": {
      "provenance": []
    },
    "kernelspec": {
      "display_name": "Python 3",
      "name": "python3"
    },
    "language_info": {
      "name": "python"
    }
  },
  "nbformat": 4,
  "nbformat_minor": 0
}